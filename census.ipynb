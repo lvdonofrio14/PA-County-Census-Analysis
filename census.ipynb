{
 "cells": [
  {
   "cell_type": "code",
   "execution_count": 160,
   "metadata": {},
   "outputs": [],
   "source": [
    "import pandas as pd\n",
    "from pathlib import Path\n",
    "import numpy as np\n",
    "import hvplot.pandas\n",
    "import seaborn as sns\n",
    "%matplotlib inline\n",
    "import matplotlib.pyplot as plt"
   ]
  },
  {
   "cell_type": "code",
   "execution_count": 55,
   "metadata": {},
   "outputs": [
    {
     "data": {
      "text/html": [
       "<div>\n",
       "<style scoped>\n",
       "    .dataframe tbody tr th:only-of-type {\n",
       "        vertical-align: middle;\n",
       "    }\n",
       "\n",
       "    .dataframe tbody tr th {\n",
       "        vertical-align: top;\n",
       "    }\n",
       "\n",
       "    .dataframe thead th {\n",
       "        text-align: right;\n",
       "    }\n",
       "</style>\n",
       "<table border=\"1\" class=\"dataframe\">\n",
       "  <thead>\n",
       "    <tr style=\"text-align: right;\">\n",
       "      <th></th>\n",
       "      <th>do_date</th>\n",
       "      <th>total_pop</th>\n",
       "      <th>households</th>\n",
       "      <th>male_pop</th>\n",
       "      <th>female_pop</th>\n",
       "      <th>median_age</th>\n",
       "      <th>male_under_5</th>\n",
       "      <th>male_5_to_9</th>\n",
       "      <th>male_10_to_14</th>\n",
       "      <th>male_15_to_17</th>\n",
       "      <th>...</th>\n",
       "      <th>management_business_sci_arts_employed</th>\n",
       "      <th>sales_office_employed</th>\n",
       "      <th>in_grades_1_to_4</th>\n",
       "      <th>in_grades_5_to_8</th>\n",
       "      <th>in_grades_9_to_12</th>\n",
       "      <th>in_school</th>\n",
       "      <th>in_undergrad_college</th>\n",
       "      <th>speak_only_english_at_home</th>\n",
       "      <th>speak_spanish_at_home</th>\n",
       "      <th>speak_spanish_at_home_low_english</th>\n",
       "    </tr>\n",
       "    <tr>\n",
       "      <th>geo_id</th>\n",
       "      <th></th>\n",
       "      <th></th>\n",
       "      <th></th>\n",
       "      <th></th>\n",
       "      <th></th>\n",
       "      <th></th>\n",
       "      <th></th>\n",
       "      <th></th>\n",
       "      <th></th>\n",
       "      <th></th>\n",
       "      <th></th>\n",
       "      <th></th>\n",
       "      <th></th>\n",
       "      <th></th>\n",
       "      <th></th>\n",
       "      <th></th>\n",
       "      <th></th>\n",
       "      <th></th>\n",
       "      <th></th>\n",
       "      <th></th>\n",
       "      <th></th>\n",
       "    </tr>\n",
       "  </thead>\n",
       "  <tbody>\n",
       "    <tr>\n",
       "      <th>42057</th>\n",
       "      <td>2014-01-01</td>\n",
       "      <td>14506.0</td>\n",
       "      <td>5950.0</td>\n",
       "      <td>7360.0</td>\n",
       "      <td>7146.0</td>\n",
       "      <td>45.0</td>\n",
       "      <td>405.0</td>\n",
       "      <td>468.0</td>\n",
       "      <td>384.0</td>\n",
       "      <td>290.0</td>\n",
       "      <td>...</td>\n",
       "      <td>1679.0</td>\n",
       "      <td>1156.0</td>\n",
       "      <td>637.0</td>\n",
       "      <td>665.0</td>\n",
       "      <td>732.0</td>\n",
       "      <td>2767.0</td>\n",
       "      <td>334.0</td>\n",
       "      <td>NaN</td>\n",
       "      <td>NaN</td>\n",
       "      <td>NaN</td>\n",
       "    </tr>\n",
       "    <tr>\n",
       "      <th>42105</th>\n",
       "      <td>2014-01-01</td>\n",
       "      <td>16937.0</td>\n",
       "      <td>6523.0</td>\n",
       "      <td>8475.0</td>\n",
       "      <td>8462.0</td>\n",
       "      <td>46.7</td>\n",
       "      <td>444.0</td>\n",
       "      <td>492.0</td>\n",
       "      <td>569.0</td>\n",
       "      <td>327.0</td>\n",
       "      <td>...</td>\n",
       "      <td>1937.0</td>\n",
       "      <td>1075.0</td>\n",
       "      <td>765.0</td>\n",
       "      <td>840.0</td>\n",
       "      <td>846.0</td>\n",
       "      <td>3258.0</td>\n",
       "      <td>316.0</td>\n",
       "      <td>NaN</td>\n",
       "      <td>NaN</td>\n",
       "      <td>NaN</td>\n",
       "    </tr>\n",
       "    <tr>\n",
       "      <th>42053</th>\n",
       "      <td>2014-01-01</td>\n",
       "      <td>7351.0</td>\n",
       "      <td>1631.0</td>\n",
       "      <td>5807.0</td>\n",
       "      <td>1544.0</td>\n",
       "      <td>40.4</td>\n",
       "      <td>81.0</td>\n",
       "      <td>51.0</td>\n",
       "      <td>123.0</td>\n",
       "      <td>232.0</td>\n",
       "      <td>...</td>\n",
       "      <td>242.0</td>\n",
       "      <td>146.0</td>\n",
       "      <td>121.0</td>\n",
       "      <td>205.0</td>\n",
       "      <td>345.0</td>\n",
       "      <td>794.0</td>\n",
       "      <td>57.0</td>\n",
       "      <td>NaN</td>\n",
       "      <td>NaN</td>\n",
       "      <td>NaN</td>\n",
       "    </tr>\n",
       "    <tr>\n",
       "      <th>42113</th>\n",
       "      <td>2014-01-01</td>\n",
       "      <td>6177.0</td>\n",
       "      <td>2721.0</td>\n",
       "      <td>3253.0</td>\n",
       "      <td>2924.0</td>\n",
       "      <td>53.1</td>\n",
       "      <td>100.0</td>\n",
       "      <td>77.0</td>\n",
       "      <td>100.0</td>\n",
       "      <td>97.0</td>\n",
       "      <td>...</td>\n",
       "      <td>682.0</td>\n",
       "      <td>445.0</td>\n",
       "      <td>136.0</td>\n",
       "      <td>152.0</td>\n",
       "      <td>284.0</td>\n",
       "      <td>845.0</td>\n",
       "      <td>147.0</td>\n",
       "      <td>NaN</td>\n",
       "      <td>NaN</td>\n",
       "      <td>NaN</td>\n",
       "    </tr>\n",
       "    <tr>\n",
       "      <th>42031</th>\n",
       "      <td>2014-01-01</td>\n",
       "      <td>38827.0</td>\n",
       "      <td>15824.0</td>\n",
       "      <td>18962.0</td>\n",
       "      <td>19865.0</td>\n",
       "      <td>41.2</td>\n",
       "      <td>1016.0</td>\n",
       "      <td>1155.0</td>\n",
       "      <td>890.0</td>\n",
       "      <td>639.0</td>\n",
       "      <td>...</td>\n",
       "      <td>5649.0</td>\n",
       "      <td>2980.0</td>\n",
       "      <td>1787.0</td>\n",
       "      <td>1398.0</td>\n",
       "      <td>1648.0</td>\n",
       "      <td>9029.0</td>\n",
       "      <td>2994.0</td>\n",
       "      <td>NaN</td>\n",
       "      <td>NaN</td>\n",
       "      <td>NaN</td>\n",
       "    </tr>\n",
       "  </tbody>\n",
       "</table>\n",
       "<p>5 rows × 241 columns</p>\n",
       "</div>"
      ],
      "text/plain": [
       "           do_date  total_pop  households  male_pop  female_pop  median_age  \\\n",
       "geo_id                                                                        \n",
       "42057   2014-01-01    14506.0      5950.0    7360.0      7146.0        45.0   \n",
       "42105   2014-01-01    16937.0      6523.0    8475.0      8462.0        46.7   \n",
       "42053   2014-01-01     7351.0      1631.0    5807.0      1544.0        40.4   \n",
       "42113   2014-01-01     6177.0      2721.0    3253.0      2924.0        53.1   \n",
       "42031   2014-01-01    38827.0     15824.0   18962.0     19865.0        41.2   \n",
       "\n",
       "        male_under_5  male_5_to_9  male_10_to_14  male_15_to_17  ...  \\\n",
       "geo_id                                                           ...   \n",
       "42057          405.0        468.0          384.0          290.0  ...   \n",
       "42105          444.0        492.0          569.0          327.0  ...   \n",
       "42053           81.0         51.0          123.0          232.0  ...   \n",
       "42113          100.0         77.0          100.0           97.0  ...   \n",
       "42031         1016.0       1155.0          890.0          639.0  ...   \n",
       "\n",
       "        management_business_sci_arts_employed  sales_office_employed  \\\n",
       "geo_id                                                                 \n",
       "42057                                  1679.0                 1156.0   \n",
       "42105                                  1937.0                 1075.0   \n",
       "42053                                   242.0                  146.0   \n",
       "42113                                   682.0                  445.0   \n",
       "42031                                  5649.0                 2980.0   \n",
       "\n",
       "        in_grades_1_to_4  in_grades_5_to_8  in_grades_9_to_12  in_school  \\\n",
       "geo_id                                                                     \n",
       "42057              637.0             665.0              732.0     2767.0   \n",
       "42105              765.0             840.0              846.0     3258.0   \n",
       "42053              121.0             205.0              345.0      794.0   \n",
       "42113              136.0             152.0              284.0      845.0   \n",
       "42031             1787.0            1398.0             1648.0     9029.0   \n",
       "\n",
       "        in_undergrad_college  speak_only_english_at_home  \\\n",
       "geo_id                                                     \n",
       "42057                  334.0                         NaN   \n",
       "42105                  316.0                         NaN   \n",
       "42053                   57.0                         NaN   \n",
       "42113                  147.0                         NaN   \n",
       "42031                 2994.0                         NaN   \n",
       "\n",
       "        speak_spanish_at_home  speak_spanish_at_home_low_english  \n",
       "geo_id                                                            \n",
       "42057                     NaN                                NaN  \n",
       "42105                     NaN                                NaN  \n",
       "42053                     NaN                                NaN  \n",
       "42113                     NaN                                NaN  \n",
       "42031                     NaN                                NaN  \n",
       "\n",
       "[5 rows x 241 columns]"
      ]
     },
     "execution_count": 55,
     "metadata": {},
     "output_type": "execute_result"
    }
   ],
   "source": [
    "#importing my data\n",
    "path = Path('resources/bquxjob_7f17d051_17cdd9f7d2e.csv')\n",
    "census_df = pd.read_csv(path, index_col = 'geo_id')\n",
    "census_df.head()"
   ]
  },
  {
   "cell_type": "markdown",
   "metadata": {},
   "source": [
    "### Question 1"
   ]
  },
  {
   "cell_type": "markdown",
   "metadata": {},
   "source": [
    "According to this data, what is the total population of PA?  What do you observe about how population is distributed across counties in PA?  \n",
    "\n"
   ]
  },
  {
   "cell_type": "code",
   "execution_count": 56,
   "metadata": {},
   "outputs": [
    {
     "name": "stdout",
     "output_type": "stream",
     "text": [
      "The total population of PA: 12791181.0\n"
     ]
    }
   ],
   "source": [
    "#Finding total population\n",
    "total_pop_count = census_df['total_pop'].sum()\n",
    "print(f'The total population of PA: {total_pop_count}')"
   ]
  },
  {
   "cell_type": "markdown",
   "metadata": {},
   "source": [
    "There are three major counties that make up over 28% of the population and the majority of counties are rather small"
   ]
  },
  {
   "cell_type": "code",
   "execution_count": 76,
   "metadata": {},
   "outputs": [
    {
     "data": {},
     "metadata": {},
     "output_type": "display_data"
    },
    {
     "data": {
      "application/vnd.holoviews_exec.v0+json": "",
      "text/html": [
       "<div id='2043'>\n",
       "\n",
       "\n",
       "\n",
       "\n",
       "\n",
       "  <div class=\"bk-root\" id=\"4ca72e24-1bce-4795-84bb-47ca73096c87\" data-root-id=\"2043\"></div>\n",
       "</div>\n",
       "<script type=\"application/javascript\">(function(root) {\n",
       "  function embed_document(root) {\n",
       "    var docs_json = {\"26f18b06-1724-4d5e-a09d-16c6d88b6034\":{\"roots\":{\"references\":[{\"attributes\":{\"margin\":[5,5,5,5],\"name\":\"HSpacer03850\",\"sizing_mode\":\"stretch_width\"},\"id\":\"2044\",\"type\":\"Spacer\"},{\"attributes\":{\"margin\":[5,5,5,5],\"name\":\"HSpacer03851\",\"sizing_mode\":\"stretch_width\"},\"id\":\"2105\",\"type\":\"Spacer\"},{\"attributes\":{\"text\":\"PA Population by County\",\"text_color\":{\"value\":\"black\"},\"text_font_size\":{\"value\":\"12pt\"}},\"id\":\"2049\",\"type\":\"Title\"},{\"attributes\":{},\"id\":\"2078\",\"type\":\"Selection\"},{\"attributes\":{},\"id\":\"2086\",\"type\":\"CategoricalTickFormatter\"},{\"attributes\":{},\"id\":\"2096\",\"type\":\"UnionRenderers\"},{\"attributes\":{\"below\":[{\"id\":\"2057\"}],\"center\":[{\"id\":\"2059\"},{\"id\":\"2063\"}],\"left\":[{\"id\":\"2060\"}],\"margin\":[5,5,5,5],\"min_border_bottom\":10,\"min_border_left\":10,\"min_border_right\":10,\"min_border_top\":10,\"plot_height\":300,\"plot_width\":700,\"renderers\":[{\"id\":\"2083\"}],\"sizing_mode\":\"fixed\",\"title\":{\"id\":\"2049\"},\"toolbar\":{\"id\":\"2070\"},\"x_range\":{\"id\":\"2045\"},\"x_scale\":{\"id\":\"2053\"},\"y_range\":{\"id\":\"2046\"},\"y_scale\":{\"id\":\"2055\"}},\"id\":\"2048\",\"subtype\":\"Figure\",\"type\":\"Plot\"},{\"attributes\":{},\"id\":\"2064\",\"type\":\"SaveTool\"},{\"attributes\":{},\"id\":\"2065\",\"type\":\"PanTool\"},{\"attributes\":{},\"id\":\"2068\",\"type\":\"ResetTool\"},{\"attributes\":{},\"id\":\"2066\",\"type\":\"WheelZoomTool\"},{\"attributes\":{},\"id\":\"2058\",\"type\":\"CategoricalTicker\"},{\"attributes\":{},\"id\":\"2053\",\"type\":\"CategoricalScale\"},{\"attributes\":{\"overlay\":{\"id\":\"2069\"}},\"id\":\"2067\",\"type\":\"BoxZoomTool\"},{\"attributes\":{\"fill_alpha\":{\"value\":0.2},\"fill_color\":{\"value\":\"#30a2da\"},\"line_alpha\":{\"value\":0.2},\"top\":{\"field\":\"total_pop\"},\"width\":{\"value\":0.8},\"x\":{\"field\":\"geo_id\"}},\"id\":\"2082\",\"type\":\"VBar\"},{\"attributes\":{\"source\":{\"id\":\"2077\"}},\"id\":\"2084\",\"type\":\"CDSView\"},{\"attributes\":{\"fill_color\":{\"value\":\"#30a2da\"},\"top\":{\"field\":\"total_pop\"},\"width\":{\"value\":0.8},\"x\":{\"field\":\"geo_id\"}},\"id\":\"2080\",\"type\":\"VBar\"},{\"attributes\":{\"axis\":{\"id\":\"2057\"},\"grid_line_color\":null,\"ticker\":null},\"id\":\"2059\",\"type\":\"Grid\"},{\"attributes\":{},\"id\":\"2055\",\"type\":\"LinearScale\"},{\"attributes\":{\"fill_alpha\":{\"value\":0.1},\"fill_color\":{\"value\":\"#30a2da\"},\"line_alpha\":{\"value\":0.1},\"top\":{\"field\":\"total_pop\"},\"width\":{\"value\":0.8},\"x\":{\"field\":\"geo_id\"}},\"id\":\"2081\",\"type\":\"VBar\"},{\"attributes\":{\"data_source\":{\"id\":\"2077\"},\"glyph\":{\"id\":\"2080\"},\"hover_glyph\":null,\"muted_glyph\":{\"id\":\"2082\"},\"nonselection_glyph\":{\"id\":\"2081\"},\"selection_glyph\":null,\"view\":{\"id\":\"2084\"}},\"id\":\"2083\",\"type\":\"GlyphRenderer\"},{\"attributes\":{\"axis_label\":\"geo_id\",\"bounds\":\"auto\",\"formatter\":{\"id\":\"2086\"},\"major_label_orientation\":1.2566370614359172,\"ticker\":{\"id\":\"2058\"}},\"id\":\"2057\",\"type\":\"CategoricalAxis\"},{\"attributes\":{\"end\":1732605.6,\"reset_end\":1732605.6,\"reset_start\":0.0,\"tags\":[[[\"total_pop\",\"total_pop\",null]]]},\"id\":\"2046\",\"type\":\"Range1d\"},{\"attributes\":{\"axis_label\":\"total_pop\",\"bounds\":\"auto\",\"formatter\":{\"id\":\"2088\"},\"major_label_orientation\":\"horizontal\",\"ticker\":{\"id\":\"2061\"}},\"id\":\"2060\",\"type\":\"LinearAxis\"},{\"attributes\":{\"callback\":null,\"renderers\":[{\"id\":\"2083\"}],\"tags\":[\"hv_created\"],\"tooltips\":[[\"geo_id\",\"@{geo_id}\"],[\"total_pop\",\"@{total_pop}\"]]},\"id\":\"2047\",\"type\":\"HoverTool\"},{\"attributes\":{\"factors\":[\"42057\",\"42105\",\"42053\",\"42113\",\"42031\",\"42023\",\"42035\",\"42111\",\"42115\",\"42059\",\"42119\",\"42109\",\"42067\",\"42087\",\"42061\",\"42093\",\"42131\",\"42037\",\"42015\",\"42047\",\"42009\",\"42005\",\"42095\",\"42041\",\"42079\",\"42039\",\"42125\",\"42027\",\"42021\",\"42065\",\"42081\",\"42071\",\"42049\",\"42043\",\"42063\",\"42077\",\"42017\",\"42029\",\"42075\",\"42123\",\"42099\",\"42097\",\"42025\",\"42033\",\"42121\",\"42001\",\"42055\",\"42089\",\"42007\",\"42083\",\"42107\",\"42103\",\"42011\",\"42117\",\"42127\",\"42085\",\"42019\",\"42091\",\"42051\",\"42129\",\"42069\",\"42073\",\"42013\",\"42133\",\"42101\",\"42003\",\"42045\"],\"tags\":[[[\"geo_id\",\"geo_id\",null]]]},\"id\":\"2045\",\"type\":\"FactorRange\"},{\"attributes\":{\"data\":{\"geo_id\":[\"42057\",\"42105\",\"42053\",\"42113\",\"42031\",\"42023\",\"42035\",\"42111\",\"42115\",\"42059\",\"42119\",\"42109\",\"42067\",\"42087\",\"42061\",\"42093\",\"42131\",\"42037\",\"42015\",\"42047\",\"42009\",\"42005\",\"42095\",\"42041\",\"42079\",\"42039\",\"42125\",\"42027\",\"42021\",\"42065\",\"42081\",\"42071\",\"42049\",\"42043\",\"42063\",\"42077\",\"42017\",\"42029\",\"42075\",\"42123\",\"42099\",\"42097\",\"42025\",\"42033\",\"42121\",\"42001\",\"42055\",\"42089\",\"42007\",\"42083\",\"42107\",\"42103\",\"42011\",\"42117\",\"42127\",\"42085\",\"42019\",\"42091\",\"42051\",\"42129\",\"42069\",\"42073\",\"42013\",\"42133\",\"42101\",\"42003\",\"42045\"],\"total_pop\":{\"__ndarray__\":\"AAAAAABVzEAAAAAAQIrQQAAAAAAAt7xAAAAAAAAhuEAAAAAAYPXiQAAAAAAATrJAAAAAAEAU40AAAAAAUEzyQAAAAACAL+RAAAAAAAAj4kAAAAAAQAfmQAAAAABAwuNAAAAAAID810AAAAAAQKPmQAAAAACgLeZAAAAAAIDd0UAAAAAAAPHaQAAAAADAKvBAAAAAAADv7UAAAAAAAOTdQAAAAABgvOdAAAAAALAx8EAAAAAASGsSQQAAAABINA5BAAAAAPBmE0EAAAAAQAn1QAAAAADYVQlBAAAAABi1A0EAAAAAsGwAQQAAAACAhuVAAAAAALAK/EAAAAAA1m0gQQAAAAAQ2BBBAAAAAEzBEEEAAAAAsO/0QAAAAADUIRZBAAAAAIQdI0EAAAAAkJAfQQAAAACQ7QBBAAAAAGCM40AAAAAAgGzmQAAAAABQivZAAAAAAGA370AAAAAAgJXzQAAAAAAAk+lAAAAAAHDo+EAAAAAAuMQCQQAAAAAQdQRBAAAAAIBfBEEAAAAAwGnkQAAAAAAYhgFBAAAAAEAZ60AAAAAACG4ZQQAAAABAIeRAAAAAAAAq6UAAAAAAYH/7QAAAAAAwxgZBAAAAAGoQKUEAAAAACCYAQQAAAAD8phVBAAAAAPDPCUEAAAAAYFX1QAAAAAAgPP5AAAAAALgZG0EAAAAAYgo4QQAAAABZszJBAAAAAI4yIUE=\",\"dtype\":\"float64\",\"order\":\"little\",\"shape\":[67]}},\"selected\":{\"id\":\"2078\"},\"selection_policy\":{\"id\":\"2096\"}},\"id\":\"2077\",\"type\":\"ColumnDataSource\"},{\"attributes\":{},\"id\":\"2061\",\"type\":\"BasicTicker\"},{\"attributes\":{\"axis\":{\"id\":\"2060\"},\"dimension\":1,\"grid_line_color\":null,\"ticker\":null},\"id\":\"2063\",\"type\":\"Grid\"},{\"attributes\":{},\"id\":\"2088\",\"type\":\"BasicTickFormatter\"},{\"attributes\":{\"active_drag\":\"auto\",\"active_inspect\":\"auto\",\"active_multi\":null,\"active_scroll\":\"auto\",\"active_tap\":\"auto\",\"tools\":[{\"id\":\"2047\"},{\"id\":\"2064\"},{\"id\":\"2065\"},{\"id\":\"2066\"},{\"id\":\"2067\"},{\"id\":\"2068\"}]},\"id\":\"2070\",\"type\":\"Toolbar\"},{\"attributes\":{\"children\":[{\"id\":\"2044\"},{\"id\":\"2048\"},{\"id\":\"2105\"}],\"margin\":[0,0,0,0],\"name\":\"Row03846\",\"tags\":[\"embedded\"]},\"id\":\"2043\",\"type\":\"Row\"},{\"attributes\":{\"bottom_units\":\"screen\",\"fill_alpha\":0.5,\"fill_color\":\"lightgrey\",\"left_units\":\"screen\",\"level\":\"overlay\",\"line_alpha\":1.0,\"line_color\":\"black\",\"line_dash\":[4,4],\"line_width\":2,\"right_units\":\"screen\",\"top_units\":\"screen\"},\"id\":\"2069\",\"type\":\"BoxAnnotation\"}],\"root_ids\":[\"2043\"]},\"title\":\"Bokeh Application\",\"version\":\"2.2.3\"}};\n",
       "    var render_items = [{\"docid\":\"26f18b06-1724-4d5e-a09d-16c6d88b6034\",\"root_ids\":[\"2043\"],\"roots\":{\"2043\":\"4ca72e24-1bce-4795-84bb-47ca73096c87\"}}];\n",
       "    root.Bokeh.embed.embed_items_notebook(docs_json, render_items);\n",
       "  }\n",
       "  if (root.Bokeh !== undefined && root.Bokeh.Panel !== undefined) {\n",
       "    embed_document(root);\n",
       "  } else {\n",
       "    var attempts = 0;\n",
       "    var timer = setInterval(function(root) {\n",
       "      if (root.Bokeh !== undefined && root.Bokeh.Panel !== undefined) {\n",
       "        clearInterval(timer);\n",
       "        embed_document(root);\n",
       "      } else if (document.readyState == \"complete\") {\n",
       "        attempts++;\n",
       "        if (attempts > 100) {\n",
       "          clearInterval(timer);\n",
       "          console.log(\"Bokeh: ERROR: Unable to run BokehJS code because BokehJS library is missing\");\n",
       "        }\n",
       "      }\n",
       "    }, 10, root)\n",
       "  }\n",
       "})(window);</script>"
      ],
      "text/plain": [
       ":Bars   [geo_id]   (total_pop)"
      ]
     },
     "execution_count": 76,
     "metadata": {
      "application/vnd.holoviews_exec.v0+json": {
       "id": "2043"
      }
     },
     "output_type": "execute_result"
    }
   ],
   "source": [
    "#graphing Population by County\n",
    "census_df.hvplot(kind = 'bar', rot = 72, x ='geo_id', y = 'total_pop', title = 'PA Population by County' )"
   ]
  },
  {
   "cell_type": "code",
   "execution_count": 58,
   "metadata": {
    "collapsed": true,
    "jupyter": {
     "outputs_hidden": true,
     "source_hidden": true
    }
   },
   "outputs": [
    {
     "name": "stdout",
     "output_type": "stream",
     "text": [
      "['do_date', 'total_pop', 'households', 'male_pop', 'female_pop', 'median_age', 'male_under_5', 'male_5_to_9', 'male_10_to_14', 'male_15_to_17', 'male_18_to_19', 'male_20', 'male_21', 'male_22_to_24', 'male_25_to_29', 'male_30_to_34', 'male_35_to_39', 'male_40_to_44', 'male_45_to_49', 'male_50_to_54', 'male_55_to_59', 'male_60_to_61', 'male_62_to_64', 'male_65_to_66', 'male_67_to_69', 'male_70_to_74', 'male_75_to_79', 'male_80_to_84', 'male_85_and_over', 'female_under_5', 'female_5_to_9', 'female_10_to_14', 'female_15_to_17', 'female_18_to_19', 'female_20', 'female_21', 'female_22_to_24', 'female_25_to_29', 'female_30_to_34', 'female_35_to_39', 'female_40_to_44', 'female_45_to_49', 'female_50_to_54', 'female_55_to_59', 'female_60_to_61', 'female_62_to_64', 'female_65_to_66', 'female_67_to_69', 'female_70_to_74', 'female_75_to_79', 'female_80_to_84', 'female_85_and_over', 'white_pop', 'population_1_year_and_over', 'population_3_years_over', 'pop_5_years_over', 'pop_15_and_over', 'pop_16_over', 'pop_25_years_over', 'pop_25_64', 'pop_never_married', 'pop_now_married', 'pop_separated', 'pop_widowed', 'pop_divorced', 'not_us_citizen_pop', 'black_pop', 'asian_pop', 'hispanic_pop', 'amerindian_pop', 'other_race_pop', 'two_or_more_races_pop', 'hispanic_any_race', 'not_hispanic_pop', 'asian_male_45_54', 'asian_male_55_64', 'black_male_45_54', 'black_male_55_64', 'hispanic_male_45_54', 'hispanic_male_55_64', 'white_male_45_54', 'white_male_55_64', 'median_income', 'income_per_capita', 'income_less_10000', 'income_10000_14999', 'income_15000_19999', 'income_20000_24999', 'income_25000_29999', 'income_30000_34999', 'income_35000_39999', 'income_40000_44999', 'income_45000_49999', 'income_50000_59999', 'income_60000_74999', 'income_75000_99999', 'income_100000_124999', 'income_125000_149999', 'income_150000_199999', 'income_200000_or_more', 'pop_determined_poverty_status', 'poverty', 'gini_index', 'housing_units', 'renter_occupied_housing_units_paying_cash_median_gross_rent', 'owner_occupied_housing_units_lower_value_quartile', 'owner_occupied_housing_units_median_value', 'owner_occupied_housing_units_upper_value_quartile', 'occupied_housing_units', 'housing_units_renter_occupied', 'vacant_housing_units', 'vacant_housing_units_for_rent', 'vacant_housing_units_for_sale', 'dwellings_1_units_detached', 'dwellings_1_units_attached', 'dwellings_2_units', 'dwellings_3_to_4_units', 'dwellings_5_to_9_units', 'dwellings_10_to_19_units', 'dwellings_20_to_49_units', 'dwellings_50_or_more_units', 'mobile_homes', 'housing_built_2005_or_later', 'housing_built_2000_to_2004', 'housing_built_1939_or_earlier', 'median_year_structure_built', 'married_households', 'nonfamily_households', 'family_households', 'households_public_asst_or_food_stamps', 'male_male_households', 'female_female_households', 'children', 'children_in_single_female_hh', 'median_rent', 'percent_income_spent_on_rent', 'rent_burden_not_computed', 'rent_over_50_percent', 'rent_40_to_50_percent', 'rent_35_to_40_percent', 'rent_30_to_35_percent', 'rent_25_to_30_percent', 'rent_20_to_25_percent', 'rent_15_to_20_percent', 'rent_10_to_15_percent', 'rent_under_10_percent', 'owner_occupied_housing_units', 'million_dollar_housing_units', 'mortgaged_housing_units', 'different_house_year_ago_different_city', 'different_house_year_ago_same_city', 'families_with_young_children', 'two_parent_families_with_young_children', 'two_parents_in_labor_force_families_with_young_children', 'two_parents_father_in_labor_force_families_with_young_children', 'two_parents_mother_in_labor_force_families_with_young_children', 'two_parents_not_in_labor_force_families_with_young_children', 'one_parent_families_with_young_children', 'father_one_parent_families_with_young_children', 'father_in_labor_force_one_parent_families_with_young_children', 'commute_less_10_mins', 'commute_10_14_mins', 'commute_15_19_mins', 'commute_20_24_mins', 'commute_25_29_mins', 'commute_30_34_mins', 'commute_35_44_mins', 'commute_60_more_mins', 'commute_45_59_mins', 'commuters_16_over', 'walked_to_work', 'worked_at_home', 'no_car', 'no_cars', 'one_car', 'two_cars', 'three_cars', 'four_more_cars', 'aggregate_travel_time_to_work', 'commuters_by_public_transportation', 'commuters_by_bus', 'commuters_by_car_truck_van', 'commuters_by_carpool', 'commuters_by_subway_or_elevated', 'commuters_drove_alone', 'group_quarters', 'associates_degree', 'bachelors_degree', 'high_school_diploma', 'less_one_year_college', 'masters_degree', 'one_year_more_college', 'less_than_high_school_graduate', 'high_school_including_ged', 'bachelors_degree_2', 'bachelors_degree_or_higher_25_64', 'graduate_professional_degree', 'some_college_and_associates_degree', 'male_45_64_associates_degree', 'male_45_64_bachelors_degree', 'male_45_64_graduate_degree', 'male_45_64_less_than_9_grade', 'male_45_64_grade_9_12', 'male_45_64_high_school', 'male_45_64_some_college', 'male_45_to_64', 'employed_pop', 'unemployed_pop', 'pop_in_labor_force', 'not_in_labor_force', 'workers_16_and_over', 'armed_forces', 'civilian_labor_force', 'employed_agriculture_forestry_fishing_hunting_mining', 'employed_arts_entertainment_recreation_accommodation_food', 'employed_construction', 'employed_education_health_social', 'employed_finance_insurance_real_estate', 'employed_information', 'employed_manufacturing', 'employed_other_services_not_public_admin', 'employed_public_administration', 'employed_retail_trade', 'employed_science_management_admin_waste', 'employed_transportation_warehousing_utilities', 'employed_wholesale_trade', 'occupation_management_arts', 'occupation_natural_resources_construction_maintenance', 'occupation_production_transportation_material', 'occupation_sales_office', 'occupation_services', 'management_business_sci_arts_employed', 'sales_office_employed', 'in_grades_1_to_4', 'in_grades_5_to_8', 'in_grades_9_to_12', 'in_school', 'in_undergrad_college', 'speak_only_english_at_home', 'speak_spanish_at_home', 'speak_spanish_at_home_low_english']\n"
     ]
    }
   ],
   "source": [
    "print(census_df.columns.tolist())"
   ]
  },
  {
   "cell_type": "markdown",
   "metadata": {},
   "source": [
    "### Question 2"
   ]
  },
  {
   "cell_type": "markdown",
   "metadata": {},
   "source": [
    "What is the average poverty rate in PA?  Poverty rate is the number of people in poverty over the total population."
   ]
  },
  {
   "cell_type": "code",
   "execution_count": 71,
   "metadata": {},
   "outputs": [],
   "source": [
    "#calculating poverty rates\n",
    "poverty_rates = census_df['poverty'] / census_df['total_pop']\n",
    "average_poverty_rate = poverty_rates.mean()"
   ]
  },
  {
   "cell_type": "code",
   "execution_count": 74,
   "metadata": {},
   "outputs": [
    {
     "name": "stdout",
     "output_type": "stream",
     "text": [
      "The average poverty rate in PA: 0.12005304602309776\n"
     ]
    }
   ],
   "source": [
    "print(f'The average poverty rate in PA: {average_poverty_rate}')"
   ]
  },
  {
   "cell_type": "markdown",
   "metadata": {},
   "source": [
    "### Question 3"
   ]
  },
  {
   "cell_type": "markdown",
   "metadata": {},
   "source": [
    "How many Pennsylvanians live in counties where the poverty is higher than the state average?"
   ]
  },
  {
   "cell_type": "code",
   "execution_count": 78,
   "metadata": {},
   "outputs": [
    {
     "data": {
      "text/html": [
       "<div>\n",
       "<style scoped>\n",
       "    .dataframe tbody tr th:only-of-type {\n",
       "        vertical-align: middle;\n",
       "    }\n",
       "\n",
       "    .dataframe tbody tr th {\n",
       "        vertical-align: top;\n",
       "    }\n",
       "\n",
       "    .dataframe thead th {\n",
       "        text-align: right;\n",
       "    }\n",
       "</style>\n",
       "<table border=\"1\" class=\"dataframe\">\n",
       "  <thead>\n",
       "    <tr style=\"text-align: right;\">\n",
       "      <th></th>\n",
       "      <th>do_date</th>\n",
       "      <th>total_pop</th>\n",
       "      <th>households</th>\n",
       "      <th>male_pop</th>\n",
       "      <th>female_pop</th>\n",
       "      <th>median_age</th>\n",
       "      <th>male_under_5</th>\n",
       "      <th>male_5_to_9</th>\n",
       "      <th>male_10_to_14</th>\n",
       "      <th>male_15_to_17</th>\n",
       "      <th>...</th>\n",
       "      <th>sales_office_employed</th>\n",
       "      <th>in_grades_1_to_4</th>\n",
       "      <th>in_grades_5_to_8</th>\n",
       "      <th>in_grades_9_to_12</th>\n",
       "      <th>in_school</th>\n",
       "      <th>in_undergrad_college</th>\n",
       "      <th>speak_only_english_at_home</th>\n",
       "      <th>speak_spanish_at_home</th>\n",
       "      <th>speak_spanish_at_home_low_english</th>\n",
       "      <th>poverty_rate</th>\n",
       "    </tr>\n",
       "    <tr>\n",
       "      <th>geo_id</th>\n",
       "      <th></th>\n",
       "      <th></th>\n",
       "      <th></th>\n",
       "      <th></th>\n",
       "      <th></th>\n",
       "      <th></th>\n",
       "      <th></th>\n",
       "      <th></th>\n",
       "      <th></th>\n",
       "      <th></th>\n",
       "      <th></th>\n",
       "      <th></th>\n",
       "      <th></th>\n",
       "      <th></th>\n",
       "      <th></th>\n",
       "      <th></th>\n",
       "      <th></th>\n",
       "      <th></th>\n",
       "      <th></th>\n",
       "      <th></th>\n",
       "      <th></th>\n",
       "    </tr>\n",
       "  </thead>\n",
       "  <tbody>\n",
       "    <tr>\n",
       "      <th>42057</th>\n",
       "      <td>2014-01-01</td>\n",
       "      <td>14506.0</td>\n",
       "      <td>5950.0</td>\n",
       "      <td>7360.0</td>\n",
       "      <td>7146.0</td>\n",
       "      <td>45.0</td>\n",
       "      <td>405.0</td>\n",
       "      <td>468.0</td>\n",
       "      <td>384.0</td>\n",
       "      <td>290.0</td>\n",
       "      <td>...</td>\n",
       "      <td>1156.0</td>\n",
       "      <td>637.0</td>\n",
       "      <td>665.0</td>\n",
       "      <td>732.0</td>\n",
       "      <td>2767.0</td>\n",
       "      <td>334.0</td>\n",
       "      <td>NaN</td>\n",
       "      <td>NaN</td>\n",
       "      <td>NaN</td>\n",
       "      <td>0.113746</td>\n",
       "    </tr>\n",
       "    <tr>\n",
       "      <th>42105</th>\n",
       "      <td>2014-01-01</td>\n",
       "      <td>16937.0</td>\n",
       "      <td>6523.0</td>\n",
       "      <td>8475.0</td>\n",
       "      <td>8462.0</td>\n",
       "      <td>46.7</td>\n",
       "      <td>444.0</td>\n",
       "      <td>492.0</td>\n",
       "      <td>569.0</td>\n",
       "      <td>327.0</td>\n",
       "      <td>...</td>\n",
       "      <td>1075.0</td>\n",
       "      <td>765.0</td>\n",
       "      <td>840.0</td>\n",
       "      <td>846.0</td>\n",
       "      <td>3258.0</td>\n",
       "      <td>316.0</td>\n",
       "      <td>NaN</td>\n",
       "      <td>NaN</td>\n",
       "      <td>NaN</td>\n",
       "      <td>0.141229</td>\n",
       "    </tr>\n",
       "    <tr>\n",
       "      <th>42053</th>\n",
       "      <td>2014-01-01</td>\n",
       "      <td>7351.0</td>\n",
       "      <td>1631.0</td>\n",
       "      <td>5807.0</td>\n",
       "      <td>1544.0</td>\n",
       "      <td>40.4</td>\n",
       "      <td>81.0</td>\n",
       "      <td>51.0</td>\n",
       "      <td>123.0</td>\n",
       "      <td>232.0</td>\n",
       "      <td>...</td>\n",
       "      <td>146.0</td>\n",
       "      <td>121.0</td>\n",
       "      <td>205.0</td>\n",
       "      <td>345.0</td>\n",
       "      <td>794.0</td>\n",
       "      <td>57.0</td>\n",
       "      <td>NaN</td>\n",
       "      <td>NaN</td>\n",
       "      <td>NaN</td>\n",
       "      <td>0.063529</td>\n",
       "    </tr>\n",
       "    <tr>\n",
       "      <th>42113</th>\n",
       "      <td>2014-01-01</td>\n",
       "      <td>6177.0</td>\n",
       "      <td>2721.0</td>\n",
       "      <td>3253.0</td>\n",
       "      <td>2924.0</td>\n",
       "      <td>53.1</td>\n",
       "      <td>100.0</td>\n",
       "      <td>77.0</td>\n",
       "      <td>100.0</td>\n",
       "      <td>97.0</td>\n",
       "      <td>...</td>\n",
       "      <td>445.0</td>\n",
       "      <td>136.0</td>\n",
       "      <td>152.0</td>\n",
       "      <td>284.0</td>\n",
       "      <td>845.0</td>\n",
       "      <td>147.0</td>\n",
       "      <td>NaN</td>\n",
       "      <td>NaN</td>\n",
       "      <td>NaN</td>\n",
       "      <td>0.129675</td>\n",
       "    </tr>\n",
       "    <tr>\n",
       "      <th>42031</th>\n",
       "      <td>2014-01-01</td>\n",
       "      <td>38827.0</td>\n",
       "      <td>15824.0</td>\n",
       "      <td>18962.0</td>\n",
       "      <td>19865.0</td>\n",
       "      <td>41.2</td>\n",
       "      <td>1016.0</td>\n",
       "      <td>1155.0</td>\n",
       "      <td>890.0</td>\n",
       "      <td>639.0</td>\n",
       "      <td>...</td>\n",
       "      <td>2980.0</td>\n",
       "      <td>1787.0</td>\n",
       "      <td>1398.0</td>\n",
       "      <td>1648.0</td>\n",
       "      <td>9029.0</td>\n",
       "      <td>2994.0</td>\n",
       "      <td>NaN</td>\n",
       "      <td>NaN</td>\n",
       "      <td>NaN</td>\n",
       "      <td>0.156927</td>\n",
       "    </tr>\n",
       "  </tbody>\n",
       "</table>\n",
       "<p>5 rows × 242 columns</p>\n",
       "</div>"
      ],
      "text/plain": [
       "           do_date  total_pop  households  male_pop  female_pop  median_age  \\\n",
       "geo_id                                                                        \n",
       "42057   2014-01-01    14506.0      5950.0    7360.0      7146.0        45.0   \n",
       "42105   2014-01-01    16937.0      6523.0    8475.0      8462.0        46.7   \n",
       "42053   2014-01-01     7351.0      1631.0    5807.0      1544.0        40.4   \n",
       "42113   2014-01-01     6177.0      2721.0    3253.0      2924.0        53.1   \n",
       "42031   2014-01-01    38827.0     15824.0   18962.0     19865.0        41.2   \n",
       "\n",
       "        male_under_5  male_5_to_9  male_10_to_14  male_15_to_17  ...  \\\n",
       "geo_id                                                           ...   \n",
       "42057          405.0        468.0          384.0          290.0  ...   \n",
       "42105          444.0        492.0          569.0          327.0  ...   \n",
       "42053           81.0         51.0          123.0          232.0  ...   \n",
       "42113          100.0         77.0          100.0           97.0  ...   \n",
       "42031         1016.0       1155.0          890.0          639.0  ...   \n",
       "\n",
       "        sales_office_employed  in_grades_1_to_4  in_grades_5_to_8  \\\n",
       "geo_id                                                              \n",
       "42057                  1156.0             637.0             665.0   \n",
       "42105                  1075.0             765.0             840.0   \n",
       "42053                   146.0             121.0             205.0   \n",
       "42113                   445.0             136.0             152.0   \n",
       "42031                  2980.0            1787.0            1398.0   \n",
       "\n",
       "        in_grades_9_to_12  in_school  in_undergrad_college  \\\n",
       "geo_id                                                       \n",
       "42057               732.0     2767.0                 334.0   \n",
       "42105               846.0     3258.0                 316.0   \n",
       "42053               345.0      794.0                  57.0   \n",
       "42113               284.0      845.0                 147.0   \n",
       "42031              1648.0     9029.0                2994.0   \n",
       "\n",
       "        speak_only_english_at_home  speak_spanish_at_home  \\\n",
       "geo_id                                                      \n",
       "42057                          NaN                    NaN   \n",
       "42105                          NaN                    NaN   \n",
       "42053                          NaN                    NaN   \n",
       "42113                          NaN                    NaN   \n",
       "42031                          NaN                    NaN   \n",
       "\n",
       "        speak_spanish_at_home_low_english  poverty_rate  \n",
       "geo_id                                                   \n",
       "42057                                 NaN      0.113746  \n",
       "42105                                 NaN      0.141229  \n",
       "42053                                 NaN      0.063529  \n",
       "42113                                 NaN      0.129675  \n",
       "42031                                 NaN      0.156927  \n",
       "\n",
       "[5 rows x 242 columns]"
      ]
     },
     "execution_count": 78,
     "metadata": {},
     "output_type": "execute_result"
    }
   ],
   "source": [
    "#Here I add in a new column for poverty rates per county\n",
    "census_df['poverty_rate'] = poverty_rates\n",
    "census_df.head()"
   ]
  },
  {
   "cell_type": "code",
   "execution_count": 90,
   "metadata": {},
   "outputs": [],
   "source": [
    "#Here I index into my answer for amount of Pennsyvanians living in counties where poverty is higher than the average\n",
    "poverty_above_state_average_total = census_df.loc[census_df['poverty_rate'] > average_poverty_rate]['total_pop'].sum()"
   ]
  },
  {
   "cell_type": "code",
   "execution_count": 91,
   "metadata": {},
   "outputs": [
    {
     "name": "stdout",
     "output_type": "stream",
     "text": [
      " The number of Pennsylvanian's living in counties where poverty is above the state average: 5418448.0\n"
     ]
    }
   ],
   "source": [
    "print(f\" The number of Pennsylvanian's living in counties where poverty is above the state average: {poverty_above_state_average_total}\")"
   ]
  },
  {
   "cell_type": "markdown",
   "metadata": {},
   "source": [
    "### Question 4"
   ]
  },
  {
   "cell_type": "markdown",
   "metadata": {},
   "source": [
    "Is the poverty rate in PA consistent across all counties or is there variation?  Provide a visualization to explain your answer.\n",
    "\n"
   ]
  },
  {
   "cell_type": "code",
   "execution_count": 94,
   "metadata": {},
   "outputs": [
    {
     "data": {},
     "metadata": {},
     "output_type": "display_data"
    },
    {
     "data": {
      "application/vnd.holoviews_exec.v0+json": "",
      "text/html": [
       "<div id='2357'>\n",
       "\n",
       "\n",
       "\n",
       "\n",
       "\n",
       "  <div class=\"bk-root\" id=\"fa8e9c2b-34fe-47d6-a609-e2cca1b8cdb9\" data-root-id=\"2357\"></div>\n",
       "</div>\n",
       "<script type=\"application/javascript\">(function(root) {\n",
       "  function embed_document(root) {\n",
       "    var docs_json = {\"ad58bc2f-76eb-47f5-8dae-63a2306bd8c2\":{\"roots\":{\"references\":[{\"attributes\":{\"children\":[{\"id\":\"2358\"},{\"id\":\"2362\"},{\"id\":\"2420\"}],\"margin\":[0,0,0,0],\"name\":\"Row05072\",\"tags\":[\"embedded\"]},\"id\":\"2357\",\"type\":\"Row\"},{\"attributes\":{\"fill_alpha\":{\"value\":0.1},\"fill_color\":{\"value\":\"#30a2da\"},\"line_alpha\":{\"value\":0.1},\"line_color\":{\"value\":\"#30a2da\"},\"size\":{\"units\":\"screen\",\"value\":5.477225575051661},\"x\":{\"field\":\"total_pop\"},\"y\":{\"field\":\"poverty_rate\"}},\"id\":\"2396\",\"type\":\"Scatter\"},{\"attributes\":{\"fill_alpha\":{\"value\":0.2},\"fill_color\":{\"value\":\"#30a2da\"},\"line_alpha\":{\"value\":0.2},\"line_color\":{\"value\":\"#30a2da\"},\"size\":{\"units\":\"screen\",\"value\":5.477225575051661},\"x\":{\"field\":\"total_pop\"},\"y\":{\"field\":\"poverty_rate\"}},\"id\":\"2397\",\"type\":\"Scatter\"},{\"attributes\":{\"text\":\"Poverty to Population\",\"text_color\":{\"value\":\"black\"},\"text_font_size\":{\"value\":\"12pt\"}},\"id\":\"2363\",\"type\":\"Title\"},{\"attributes\":{},\"id\":\"2379\",\"type\":\"SaveTool\"},{\"attributes\":{},\"id\":\"2380\",\"type\":\"PanTool\"},{\"attributes\":{\"data_source\":{\"id\":\"2392\"},\"glyph\":{\"id\":\"2395\"},\"hover_glyph\":null,\"muted_glyph\":{\"id\":\"2397\"},\"nonselection_glyph\":{\"id\":\"2396\"},\"selection_glyph\":null,\"view\":{\"id\":\"2399\"}},\"id\":\"2398\",\"type\":\"GlyphRenderer\"},{\"attributes\":{},\"id\":\"2383\",\"type\":\"ResetTool\"},{\"attributes\":{\"below\":[{\"id\":\"2371\"}],\"center\":[{\"id\":\"2374\"},{\"id\":\"2378\"}],\"left\":[{\"id\":\"2375\"}],\"margin\":[5,5,5,5],\"min_border_bottom\":10,\"min_border_left\":10,\"min_border_right\":10,\"min_border_top\":10,\"plot_height\":300,\"plot_width\":700,\"renderers\":[{\"id\":\"2398\"}],\"sizing_mode\":\"fixed\",\"title\":{\"id\":\"2363\"},\"toolbar\":{\"id\":\"2385\"},\"x_range\":{\"id\":\"2359\"},\"x_scale\":{\"id\":\"2367\"},\"y_range\":{\"id\":\"2360\"},\"y_scale\":{\"id\":\"2369\"}},\"id\":\"2362\",\"subtype\":\"Figure\",\"type\":\"Plot\"},{\"attributes\":{},\"id\":\"2381\",\"type\":\"WheelZoomTool\"},{\"attributes\":{\"axis_label\":\"total_pop\",\"bounds\":\"auto\",\"formatter\":{\"id\":\"2401\"},\"major_label_orientation\":\"horizontal\",\"ticker\":{\"id\":\"2372\"}},\"id\":\"2371\",\"type\":\"LinearAxis\"},{\"attributes\":{\"margin\":[5,5,5,5],\"name\":\"HSpacer05076\",\"sizing_mode\":\"stretch_width\"},\"id\":\"2358\",\"type\":\"Spacer\"},{\"attributes\":{\"overlay\":{\"id\":\"2384\"}},\"id\":\"2382\",\"type\":\"BoxZoomTool\"},{\"attributes\":{\"end\":1642843.5428571429,\"reset_end\":1642843.5428571429,\"reset_start\":-62635.542857142864,\"start\":-62635.542857142864,\"tags\":[[[\"total_pop\",\"total_pop\",null]]]},\"id\":\"2359\",\"type\":\"Range1d\"},{\"attributes\":{},\"id\":\"2393\",\"type\":\"Selection\"},{\"attributes\":{},\"id\":\"2369\",\"type\":\"LinearScale\"},{\"attributes\":{\"end\":0.2599438230123801,\"reset_end\":0.2599438230123801,\"reset_start\":0.04154602022617121,\"start\":0.04154602022617121,\"tags\":[[[\"poverty_rate\",\"poverty_rate\",null]]]},\"id\":\"2360\",\"type\":\"Range1d\"},{\"attributes\":{},\"id\":\"2367\",\"type\":\"LinearScale\"},{\"attributes\":{},\"id\":\"2403\",\"type\":\"BasicTickFormatter\"},{\"attributes\":{},\"id\":\"2372\",\"type\":\"BasicTicker\"},{\"attributes\":{\"axis_label\":\"poverty_rate\",\"bounds\":\"auto\",\"formatter\":{\"id\":\"2403\"},\"major_label_orientation\":\"horizontal\",\"ticker\":{\"id\":\"2376\"}},\"id\":\"2375\",\"type\":\"LinearAxis\"},{\"attributes\":{\"axis\":{\"id\":\"2371\"},\"grid_line_color\":null,\"ticker\":null},\"id\":\"2374\",\"type\":\"Grid\"},{\"attributes\":{\"callback\":null,\"renderers\":[{\"id\":\"2398\"}],\"tags\":[\"hv_created\"],\"tooltips\":[[\"total_pop\",\"@{total_pop}\"],[\"poverty_rate\",\"@{poverty_rate}\"]]},\"id\":\"2361\",\"type\":\"HoverTool\"},{\"attributes\":{},\"id\":\"2411\",\"type\":\"UnionRenderers\"},{\"attributes\":{\"fill_color\":{\"value\":\"#30a2da\"},\"line_color\":{\"value\":\"#30a2da\"},\"size\":{\"units\":\"screen\",\"value\":5.477225575051661},\"x\":{\"field\":\"total_pop\"},\"y\":{\"field\":\"poverty_rate\"}},\"id\":\"2395\",\"type\":\"Scatter\"},{\"attributes\":{\"data\":{\"poverty_rate\":{\"__ndarray__\":\"PqYy0XUevT/+/G7pzBPCP5nMW+xrQ7A/h8yZYS2ZwD/deWcWLhbEPyfJGcwsKsI/N88aYnFDxT8mmR85vKa9P8jOHKt8Cb8/b0PzbBh3wD/gNHHdaAi3P9Aw/tagmLk/7YBParT5vT+zF5bNaCbCP/jEUSSkEb4/VNbiFbZiuz8wiZBqWQe6P0EExy6NAsE/00cG/PhNvj8fal8vDsa4P3Yp9e21GsA/o55QpeqmvT+ZyF0bTnO2P8RubLxK7bE/gDYnPahTwj9PfZDatTLBP8RWKMAcKbc/xxw/zUzaxD96Gjai9KDCPy/ay5gGdME/XmBRI04qwT+7AEmzRvG4P6k8JNpa28M/IUyFAqvavz/Yh40KwwvEPyRSOjOWML8/Z1gMoQGXrj+IihQqHPCwP7tm0LvD+rk/Sc7UAOrPvz/+jSAsTXO1P82F2tt7B8E/pAzRFlp6vz9F5cSgtaLBP0w1v0J3UsE/48dVWmmStT8PHNtTgwq6P8SyvwavB70/4U4Oh798uz90NzBJGNfDP9Y8au4W174/anUVonNCuT9uSVcKYcm/P12r0tmZ7ME/m+CeLTqUuz9d+zPvHPnAP1NtTB1EhLQ/6mJZViYWrz9yehXllPLFP2aUDQLdFbk/iluuSd6cwj+WZtQyV5rBP4Agq1DIPMI/5R+6cv0CuT8ufSG0d/HOPy3d95VSQb4/hPzQrWq+uD8=\",\"dtype\":\"float64\",\"order\":\"little\",\"shape\":[67]},\"total_pop\":{\"__ndarray__\":\"AAAAAABVzEAAAAAAQIrQQAAAAAAAt7xAAAAAAAAhuEAAAAAAYPXiQAAAAAAATrJAAAAAAEAU40AAAAAAUEzyQAAAAACAL+RAAAAAAAAj4kAAAAAAQAfmQAAAAABAwuNAAAAAAID810AAAAAAQKPmQAAAAACgLeZAAAAAAIDd0UAAAAAAAPHaQAAAAADAKvBAAAAAAADv7UAAAAAAAOTdQAAAAABgvOdAAAAAALAx8EAAAAAASGsSQQAAAABINA5BAAAAAPBmE0EAAAAAQAn1QAAAAADYVQlBAAAAABi1A0EAAAAAsGwAQQAAAACAhuVAAAAAALAK/EAAAAAA1m0gQQAAAAAQ2BBBAAAAAEzBEEEAAAAAsO/0QAAAAADUIRZBAAAAAIQdI0EAAAAAkJAfQQAAAACQ7QBBAAAAAGCM40AAAAAAgGzmQAAAAABQivZAAAAAAGA370AAAAAAgJXzQAAAAAAAk+lAAAAAAHDo+EAAAAAAuMQCQQAAAAAQdQRBAAAAAIBfBEEAAAAAwGnkQAAAAAAYhgFBAAAAAEAZ60AAAAAACG4ZQQAAAABAIeRAAAAAAAAq6UAAAAAAYH/7QAAAAAAwxgZBAAAAAGoQKUEAAAAACCYAQQAAAAD8phVBAAAAAPDPCUEAAAAAYFX1QAAAAAAgPP5AAAAAALgZG0EAAAAAYgo4QQAAAABZszJBAAAAAI4yIUE=\",\"dtype\":\"float64\",\"order\":\"little\",\"shape\":[67]}},\"selected\":{\"id\":\"2393\"},\"selection_policy\":{\"id\":\"2411\"}},\"id\":\"2392\",\"type\":\"ColumnDataSource\"},{\"attributes\":{},\"id\":\"2376\",\"type\":\"BasicTicker\"},{\"attributes\":{\"axis\":{\"id\":\"2375\"},\"dimension\":1,\"grid_line_color\":null,\"ticker\":null},\"id\":\"2378\",\"type\":\"Grid\"},{\"attributes\":{\"active_drag\":\"auto\",\"active_inspect\":\"auto\",\"active_multi\":null,\"active_scroll\":\"auto\",\"active_tap\":\"auto\",\"tools\":[{\"id\":\"2361\"},{\"id\":\"2379\"},{\"id\":\"2380\"},{\"id\":\"2381\"},{\"id\":\"2382\"},{\"id\":\"2383\"}]},\"id\":\"2385\",\"type\":\"Toolbar\"},{\"attributes\":{\"source\":{\"id\":\"2392\"}},\"id\":\"2399\",\"type\":\"CDSView\"},{\"attributes\":{\"bottom_units\":\"screen\",\"fill_alpha\":0.5,\"fill_color\":\"lightgrey\",\"left_units\":\"screen\",\"level\":\"overlay\",\"line_alpha\":1.0,\"line_color\":\"black\",\"line_dash\":[4,4],\"line_width\":2,\"right_units\":\"screen\",\"top_units\":\"screen\"},\"id\":\"2384\",\"type\":\"BoxAnnotation\"},{\"attributes\":{},\"id\":\"2401\",\"type\":\"BasicTickFormatter\"},{\"attributes\":{\"margin\":[5,5,5,5],\"name\":\"HSpacer05077\",\"sizing_mode\":\"stretch_width\"},\"id\":\"2420\",\"type\":\"Spacer\"}],\"root_ids\":[\"2357\"]},\"title\":\"Bokeh Application\",\"version\":\"2.2.3\"}};\n",
       "    var render_items = [{\"docid\":\"ad58bc2f-76eb-47f5-8dae-63a2306bd8c2\",\"root_ids\":[\"2357\"],\"roots\":{\"2357\":\"fa8e9c2b-34fe-47d6-a609-e2cca1b8cdb9\"}}];\n",
       "    root.Bokeh.embed.embed_items_notebook(docs_json, render_items);\n",
       "  }\n",
       "  if (root.Bokeh !== undefined && root.Bokeh.Panel !== undefined) {\n",
       "    embed_document(root);\n",
       "  } else {\n",
       "    var attempts = 0;\n",
       "    var timer = setInterval(function(root) {\n",
       "      if (root.Bokeh !== undefined && root.Bokeh.Panel !== undefined) {\n",
       "        clearInterval(timer);\n",
       "        embed_document(root);\n",
       "      } else if (document.readyState == \"complete\") {\n",
       "        attempts++;\n",
       "        if (attempts > 100) {\n",
       "          clearInterval(timer);\n",
       "          console.log(\"Bokeh: ERROR: Unable to run BokehJS code because BokehJS library is missing\");\n",
       "        }\n",
       "      }\n",
       "    }, 10, root)\n",
       "  }\n",
       "})(window);</script>"
      ],
      "text/plain": [
       ":Scatter   [total_pop]   (poverty_rate)"
      ]
     },
     "execution_count": 94,
     "metadata": {
      "application/vnd.holoviews_exec.v0+json": {
       "id": "2357"
      }
     },
     "output_type": "execute_result"
    }
   ],
   "source": [
    "#Scatter plot of poverty rate and population per county\n",
    "census_df.hvplot(kind = 'scatter', y = 'poverty_rate', x = 'total_pop', title = 'Poverty to Population')"
   ]
  },
  {
   "cell_type": "code",
   "execution_count": 96,
   "metadata": {},
   "outputs": [
    {
     "data": {},
     "metadata": {},
     "output_type": "display_data"
    },
    {
     "data": {
      "application/vnd.holoviews_exec.v0+json": "",
      "text/html": [
       "<div id='2566'>\n",
       "\n",
       "\n",
       "\n",
       "\n",
       "\n",
       "  <div class=\"bk-root\" id=\"bc992da2-ceba-404b-ae6b-3cf5e2cea2ce\" data-root-id=\"2566\"></div>\n",
       "</div>\n",
       "<script type=\"application/javascript\">(function(root) {\n",
       "  function embed_document(root) {\n",
       "    var docs_json = {\"50d66cbe-6123-4c64-80a2-ccc17515c5b9\":{\"roots\":{\"references\":[{\"attributes\":{},\"id\":\"2601\",\"type\":\"Selection\"},{\"attributes\":{\"data\":{\"geo_id\":[\"42057\",\"42105\",\"42053\",\"42113\",\"42031\",\"42023\",\"42035\",\"42111\",\"42115\",\"42059\",\"42119\",\"42109\",\"42067\",\"42087\",\"42061\",\"42093\",\"42131\",\"42037\",\"42015\",\"42047\",\"42009\",\"42005\",\"42095\",\"42041\",\"42079\",\"42039\",\"42125\",\"42027\",\"42021\",\"42065\",\"42081\",\"42071\",\"42049\",\"42043\",\"42063\",\"42077\",\"42017\",\"42029\",\"42075\",\"42123\",\"42099\",\"42097\",\"42025\",\"42033\",\"42121\",\"42001\",\"42055\",\"42089\",\"42007\",\"42083\",\"42107\",\"42103\",\"42011\",\"42117\",\"42127\",\"42085\",\"42019\",\"42091\",\"42051\",\"42129\",\"42069\",\"42073\",\"42013\",\"42133\",\"42101\",\"42003\",\"42045\"],\"poverty_rate\":{\"__ndarray__\":\"PqYy0XUevT/+/G7pzBPCP5nMW+xrQ7A/h8yZYS2ZwD/deWcWLhbEPyfJGcwsKsI/N88aYnFDxT8mmR85vKa9P8jOHKt8Cb8/b0PzbBh3wD/gNHHdaAi3P9Aw/tagmLk/7YBParT5vT+zF5bNaCbCP/jEUSSkEb4/VNbiFbZiuz8wiZBqWQe6P0EExy6NAsE/00cG/PhNvj8fal8vDsa4P3Yp9e21GsA/o55QpeqmvT+ZyF0bTnO2P8RubLxK7bE/gDYnPahTwj9PfZDatTLBP8RWKMAcKbc/xxw/zUzaxD96Gjai9KDCPy/ay5gGdME/XmBRI04qwT+7AEmzRvG4P6k8JNpa28M/IUyFAqvavz/Yh40KwwvEPyRSOjOWML8/Z1gMoQGXrj+IihQqHPCwP7tm0LvD+rk/Sc7UAOrPvz/+jSAsTXO1P82F2tt7B8E/pAzRFlp6vz9F5cSgtaLBP0w1v0J3UsE/48dVWmmStT8PHNtTgwq6P8SyvwavB70/4U4Oh798uz90NzBJGNfDP9Y8au4W174/anUVonNCuT9uSVcKYcm/P12r0tmZ7ME/m+CeLTqUuz9d+zPvHPnAP1NtTB1EhLQ/6mJZViYWrz9yehXllPLFP2aUDQLdFbk/iluuSd6cwj+WZtQyV5rBP4Agq1DIPMI/5R+6cv0CuT8ufSG0d/HOPy3d95VSQb4/hPzQrWq+uD8=\",\"dtype\":\"float64\",\"order\":\"little\",\"shape\":[67]}},\"selected\":{\"id\":\"2601\"},\"selection_policy\":{\"id\":\"2619\"}},\"id\":\"2600\",\"type\":\"ColumnDataSource\"},{\"attributes\":{\"below\":[{\"id\":\"2580\"}],\"center\":[{\"id\":\"2582\"},{\"id\":\"2586\"}],\"left\":[{\"id\":\"2583\"}],\"margin\":[5,5,5,5],\"min_border_bottom\":10,\"min_border_left\":10,\"min_border_right\":10,\"min_border_top\":10,\"plot_height\":300,\"plot_width\":700,\"renderers\":[{\"id\":\"2606\"}],\"sizing_mode\":\"fixed\",\"title\":{\"id\":\"2572\"},\"toolbar\":{\"id\":\"2593\"},\"x_range\":{\"id\":\"2568\"},\"x_scale\":{\"id\":\"2576\"},\"y_range\":{\"id\":\"2569\"},\"y_scale\":{\"id\":\"2578\"}},\"id\":\"2571\",\"subtype\":\"Figure\",\"type\":\"Plot\"},{\"attributes\":{},\"id\":\"2587\",\"type\":\"SaveTool\"},{\"attributes\":{},\"id\":\"2588\",\"type\":\"PanTool\"},{\"attributes\":{},\"id\":\"2591\",\"type\":\"ResetTool\"},{\"attributes\":{},\"id\":\"2589\",\"type\":\"WheelZoomTool\"},{\"attributes\":{},\"id\":\"2581\",\"type\":\"CategoricalTicker\"},{\"attributes\":{\"margin\":[5,5,5,5],\"name\":\"HSpacer05403\",\"sizing_mode\":\"stretch_width\"},\"id\":\"2628\",\"type\":\"Spacer\"},{\"attributes\":{\"overlay\":{\"id\":\"2592\"}},\"id\":\"2590\",\"type\":\"BoxZoomTool\"},{\"attributes\":{\"factors\":[\"42057\",\"42105\",\"42053\",\"42113\",\"42031\",\"42023\",\"42035\",\"42111\",\"42115\",\"42059\",\"42119\",\"42109\",\"42067\",\"42087\",\"42061\",\"42093\",\"42131\",\"42037\",\"42015\",\"42047\",\"42009\",\"42005\",\"42095\",\"42041\",\"42079\",\"42039\",\"42125\",\"42027\",\"42021\",\"42065\",\"42081\",\"42071\",\"42049\",\"42043\",\"42063\",\"42077\",\"42017\",\"42029\",\"42075\",\"42123\",\"42099\",\"42097\",\"42025\",\"42033\",\"42121\",\"42001\",\"42055\",\"42089\",\"42007\",\"42083\",\"42107\",\"42103\",\"42011\",\"42117\",\"42127\",\"42085\",\"42019\",\"42091\",\"42051\",\"42129\",\"42069\",\"42073\",\"42013\",\"42133\",\"42101\",\"42003\",\"42045\"],\"tags\":[[[\"geo_id\",\"geo_id\",null]]]},\"id\":\"2568\",\"type\":\"FactorRange\"},{\"attributes\":{\"fill_alpha\":{\"value\":0.2},\"fill_color\":{\"value\":\"#30a2da\"},\"line_alpha\":{\"value\":0.2},\"top\":{\"field\":\"poverty_rate\"},\"width\":{\"value\":0.8},\"x\":{\"field\":\"geo_id\"}},\"id\":\"2605\",\"type\":\"VBar\"},{\"attributes\":{\"axis\":{\"id\":\"2580\"},\"grid_line_color\":null,\"ticker\":null},\"id\":\"2582\",\"type\":\"Grid\"},{\"attributes\":{\"children\":[{\"id\":\"2567\"},{\"id\":\"2571\"},{\"id\":\"2628\"}],\"margin\":[0,0,0,0],\"name\":\"Row05398\",\"tags\":[\"embedded\"]},\"id\":\"2566\",\"type\":\"Row\"},{\"attributes\":{},\"id\":\"2578\",\"type\":\"LinearScale\"},{\"attributes\":{\"source\":{\"id\":\"2600\"}},\"id\":\"2607\",\"type\":\"CDSView\"},{\"attributes\":{\"axis_label\":\"geo_id\",\"bounds\":\"auto\",\"formatter\":{\"id\":\"2609\"},\"major_label_orientation\":1.5707963267948966,\"ticker\":{\"id\":\"2581\"}},\"id\":\"2580\",\"type\":\"CategoricalAxis\"},{\"attributes\":{\"fill_color\":{\"value\":\"#30a2da\"},\"top\":{\"field\":\"poverty_rate\"},\"width\":{\"value\":0.8},\"x\":{\"field\":\"geo_id\"}},\"id\":\"2603\",\"type\":\"VBar\"},{\"attributes\":{\"end\":0.2599438230123801,\"reset_end\":0.2599438230123801,\"reset_start\":0.0,\"tags\":[[[\"poverty_rate\",\"poverty_rate\",null]]]},\"id\":\"2569\",\"type\":\"Range1d\"},{\"attributes\":{\"fill_alpha\":{\"value\":0.1},\"fill_color\":{\"value\":\"#30a2da\"},\"line_alpha\":{\"value\":0.1},\"top\":{\"field\":\"poverty_rate\"},\"width\":{\"value\":0.8},\"x\":{\"field\":\"geo_id\"}},\"id\":\"2604\",\"type\":\"VBar\"},{\"attributes\":{\"data_source\":{\"id\":\"2600\"},\"glyph\":{\"id\":\"2603\"},\"hover_glyph\":null,\"muted_glyph\":{\"id\":\"2605\"},\"nonselection_glyph\":{\"id\":\"2604\"},\"selection_glyph\":null,\"view\":{\"id\":\"2607\"}},\"id\":\"2606\",\"type\":\"GlyphRenderer\"},{\"attributes\":{},\"id\":\"2619\",\"type\":\"UnionRenderers\"},{\"attributes\":{\"axis_label\":\"\",\"bounds\":\"auto\",\"formatter\":{\"id\":\"2611\"},\"major_label_orientation\":\"horizontal\",\"ticker\":{\"id\":\"2584\"}},\"id\":\"2583\",\"type\":\"LinearAxis\"},{\"attributes\":{\"margin\":[5,5,5,5],\"name\":\"HSpacer05402\",\"sizing_mode\":\"stretch_width\"},\"id\":\"2567\",\"type\":\"Spacer\"},{\"attributes\":{},\"id\":\"2584\",\"type\":\"BasicTicker\"},{\"attributes\":{},\"id\":\"2611\",\"type\":\"BasicTickFormatter\"},{\"attributes\":{\"axis\":{\"id\":\"2583\"},\"dimension\":1,\"grid_line_color\":null,\"ticker\":null},\"id\":\"2586\",\"type\":\"Grid\"},{\"attributes\":{\"text\":\"poverty_rate\",\"text_color\":{\"value\":\"black\"},\"text_font_size\":{\"value\":\"12pt\"}},\"id\":\"2572\",\"type\":\"Title\"},{\"attributes\":{\"active_drag\":\"auto\",\"active_inspect\":\"auto\",\"active_multi\":null,\"active_scroll\":\"auto\",\"active_tap\":\"auto\",\"tools\":[{\"id\":\"2570\"},{\"id\":\"2587\"},{\"id\":\"2588\"},{\"id\":\"2589\"},{\"id\":\"2590\"},{\"id\":\"2591\"}]},\"id\":\"2593\",\"type\":\"Toolbar\"},{\"attributes\":{\"callback\":null,\"renderers\":[{\"id\":\"2606\"}],\"tags\":[\"hv_created\"],\"tooltips\":[[\"geo_id\",\"@{geo_id}\"],[\"poverty_rate\",\"@{poverty_rate}\"]]},\"id\":\"2570\",\"type\":\"HoverTool\"},{\"attributes\":{},\"id\":\"2609\",\"type\":\"CategoricalTickFormatter\"},{\"attributes\":{\"bottom_units\":\"screen\",\"fill_alpha\":0.5,\"fill_color\":\"lightgrey\",\"left_units\":\"screen\",\"level\":\"overlay\",\"line_alpha\":1.0,\"line_color\":\"black\",\"line_dash\":[4,4],\"line_width\":2,\"right_units\":\"screen\",\"top_units\":\"screen\"},\"id\":\"2592\",\"type\":\"BoxAnnotation\"},{\"attributes\":{},\"id\":\"2576\",\"type\":\"CategoricalScale\"}],\"root_ids\":[\"2566\"]},\"title\":\"Bokeh Application\",\"version\":\"2.2.3\"}};\n",
       "    var render_items = [{\"docid\":\"50d66cbe-6123-4c64-80a2-ccc17515c5b9\",\"root_ids\":[\"2566\"],\"roots\":{\"2566\":\"bc992da2-ceba-404b-ae6b-3cf5e2cea2ce\"}}];\n",
       "    root.Bokeh.embed.embed_items_notebook(docs_json, render_items);\n",
       "  }\n",
       "  if (root.Bokeh !== undefined && root.Bokeh.Panel !== undefined) {\n",
       "    embed_document(root);\n",
       "  } else {\n",
       "    var attempts = 0;\n",
       "    var timer = setInterval(function(root) {\n",
       "      if (root.Bokeh !== undefined && root.Bokeh.Panel !== undefined) {\n",
       "        clearInterval(timer);\n",
       "        embed_document(root);\n",
       "      } else if (document.readyState == \"complete\") {\n",
       "        attempts++;\n",
       "        if (attempts > 100) {\n",
       "          clearInterval(timer);\n",
       "          console.log(\"Bokeh: ERROR: Unable to run BokehJS code because BokehJS library is missing\");\n",
       "        }\n",
       "      }\n",
       "    }, 10, root)\n",
       "  }\n",
       "})(window);</script>"
      ],
      "text/plain": [
       ":Bars   [geo_id]   (poverty_rate)"
      ]
     },
     "execution_count": 96,
     "metadata": {
      "application/vnd.holoviews_exec.v0+json": {
       "id": "2566"
      }
     },
     "output_type": "execute_result"
    }
   ],
   "source": [
    "#bar graph showing poverty rate by county\n",
    "census_df['poverty_rate'].hvplot(kind = 'bar', rot = 90)"
   ]
  },
  {
   "cell_type": "code",
   "execution_count": 109,
   "metadata": {},
   "outputs": [
    {
     "data": {
      "text/plain": [
       "<matplotlib.axes._subplots.AxesSubplot at 0x28550cfd1c8>"
      ]
     },
     "execution_count": 109,
     "metadata": {},
     "output_type": "execute_result"
    },
    {
     "data": {
      "image/png": "[encoded data removed]",
      "text/plain": [
       "<Figure size 432x288 with 1 Axes>"
      ]
     },
     "metadata": {
      "needs_background": "light"
     },
     "output_type": "display_data"
    }
   ],
   "source": [
    "#box plot for poverty rates\n",
    "census_df['poverty_rate'].plot(kind = 'box')"
   ]
  },
  {
   "cell_type": "code",
   "execution_count": 108,
   "metadata": {},
   "outputs": [
    {
     "data": {
      "text/plain": [
       "0.030359392289402685"
      ]
     },
     "execution_count": 108,
     "metadata": {},
     "output_type": "execute_result"
    }
   ],
   "source": [
    "census_df['poverty_rate'].std()"
   ]
  },
  {
   "cell_type": "markdown",
   "metadata": {},
   "source": [
    "There appears to be relatively consistent poverty rates with only one major outlier that also happens to be PA's most populated county. There is a low standard deviation of .03 which suggests that most of the data is clustered around the mean and relatively consistent. "
   ]
  },
  {
   "cell_type": "markdown",
   "metadata": {},
   "source": [
    "### Question 5"
   ]
  },
  {
   "cell_type": "markdown",
   "metadata": {},
   "source": [
    "Does there seem to be any relationship between a county’s poverty rate and the percent of population that is over 65?  Include a visualization in your response."
   ]
  },
  {
   "cell_type": "code",
   "execution_count": 145,
   "metadata": {},
   "outputs": [
    {
     "data": {
      "text/html": [
       "<div>\n",
       "<style scoped>\n",
       "    .dataframe tbody tr th:only-of-type {\n",
       "        vertical-align: middle;\n",
       "    }\n",
       "\n",
       "    .dataframe tbody tr th {\n",
       "        vertical-align: top;\n",
       "    }\n",
       "\n",
       "    .dataframe thead th {\n",
       "        text-align: right;\n",
       "    }\n",
       "</style>\n",
       "<table border=\"1\" class=\"dataframe\">\n",
       "  <thead>\n",
       "    <tr style=\"text-align: right;\">\n",
       "      <th></th>\n",
       "      <th>male_65_to_66</th>\n",
       "      <th>male_67_to_69</th>\n",
       "      <th>male_70_to_74</th>\n",
       "      <th>male_75_to_79</th>\n",
       "      <th>male_80_to_84</th>\n",
       "      <th>male_85_and_over</th>\n",
       "      <th>female_65_to_66</th>\n",
       "      <th>female_67_to_69</th>\n",
       "      <th>female_70_to_74</th>\n",
       "      <th>female_75_to_79</th>\n",
       "      <th>female_80_to_84</th>\n",
       "      <th>female_85_and_over</th>\n",
       "    </tr>\n",
       "    <tr>\n",
       "      <th>geo_id</th>\n",
       "      <th></th>\n",
       "      <th></th>\n",
       "      <th></th>\n",
       "      <th></th>\n",
       "      <th></th>\n",
       "      <th></th>\n",
       "      <th></th>\n",
       "      <th></th>\n",
       "      <th></th>\n",
       "      <th></th>\n",
       "      <th></th>\n",
       "      <th></th>\n",
       "    </tr>\n",
       "  </thead>\n",
       "  <tbody>\n",
       "    <tr>\n",
       "      <th>42057</th>\n",
       "      <td>156.0</td>\n",
       "      <td>271.0</td>\n",
       "      <td>428.0</td>\n",
       "      <td>283.0</td>\n",
       "      <td>168.0</td>\n",
       "      <td>107.0</td>\n",
       "      <td>194.0</td>\n",
       "      <td>316.0</td>\n",
       "      <td>367.0</td>\n",
       "      <td>308.0</td>\n",
       "      <td>214.0</td>\n",
       "      <td>180.0</td>\n",
       "    </tr>\n",
       "    <tr>\n",
       "      <th>42105</th>\n",
       "      <td>258.0</td>\n",
       "      <td>326.0</td>\n",
       "      <td>494.0</td>\n",
       "      <td>347.0</td>\n",
       "      <td>173.0</td>\n",
       "      <td>209.0</td>\n",
       "      <td>266.0</td>\n",
       "      <td>396.0</td>\n",
       "      <td>422.0</td>\n",
       "      <td>376.0</td>\n",
       "      <td>266.0</td>\n",
       "      <td>327.0</td>\n",
       "    </tr>\n",
       "    <tr>\n",
       "      <th>42053</th>\n",
       "      <td>127.0</td>\n",
       "      <td>138.0</td>\n",
       "      <td>258.0</td>\n",
       "      <td>183.0</td>\n",
       "      <td>99.0</td>\n",
       "      <td>60.0</td>\n",
       "      <td>87.0</td>\n",
       "      <td>165.0</td>\n",
       "      <td>192.0</td>\n",
       "      <td>191.0</td>\n",
       "      <td>47.0</td>\n",
       "      <td>79.0</td>\n",
       "    </tr>\n",
       "    <tr>\n",
       "      <th>42113</th>\n",
       "      <td>84.0</td>\n",
       "      <td>158.0</td>\n",
       "      <td>228.0</td>\n",
       "      <td>156.0</td>\n",
       "      <td>79.0</td>\n",
       "      <td>94.0</td>\n",
       "      <td>103.0</td>\n",
       "      <td>143.0</td>\n",
       "      <td>232.0</td>\n",
       "      <td>161.0</td>\n",
       "      <td>95.0</td>\n",
       "      <td>132.0</td>\n",
       "    </tr>\n",
       "    <tr>\n",
       "      <th>42031</th>\n",
       "      <td>437.0</td>\n",
       "      <td>715.0</td>\n",
       "      <td>736.0</td>\n",
       "      <td>571.0</td>\n",
       "      <td>444.0</td>\n",
       "      <td>358.0</td>\n",
       "      <td>462.0</td>\n",
       "      <td>719.0</td>\n",
       "      <td>887.0</td>\n",
       "      <td>767.0</td>\n",
       "      <td>615.0</td>\n",
       "      <td>549.0</td>\n",
       "    </tr>\n",
       "  </tbody>\n",
       "</table>\n",
       "</div>"
      ],
      "text/plain": [
       "        male_65_to_66  male_67_to_69  male_70_to_74  male_75_to_79  \\\n",
       "geo_id                                                               \n",
       "42057           156.0          271.0          428.0          283.0   \n",
       "42105           258.0          326.0          494.0          347.0   \n",
       "42053           127.0          138.0          258.0          183.0   \n",
       "42113            84.0          158.0          228.0          156.0   \n",
       "42031           437.0          715.0          736.0          571.0   \n",
       "\n",
       "        male_80_to_84  male_85_and_over  female_65_to_66  female_67_to_69  \\\n",
       "geo_id                                                                      \n",
       "42057           168.0             107.0            194.0            316.0   \n",
       "42105           173.0             209.0            266.0            396.0   \n",
       "42053            99.0              60.0             87.0            165.0   \n",
       "42113            79.0              94.0            103.0            143.0   \n",
       "42031           444.0             358.0            462.0            719.0   \n",
       "\n",
       "        female_70_to_74  female_75_to_79  female_80_to_84  female_85_and_over  \n",
       "geo_id                                                                         \n",
       "42057             367.0            308.0            214.0               180.0  \n",
       "42105             422.0            376.0            266.0               327.0  \n",
       "42053             192.0            191.0             47.0                79.0  \n",
       "42113             232.0            161.0             95.0               132.0  \n",
       "42031             887.0            767.0            615.0               549.0  "
      ]
     },
     "execution_count": 145,
     "metadata": {},
     "output_type": "execute_result"
    }
   ],
   "source": [
    "#creating dataframe of people over 65\n",
    "population_over_65 = census_df.iloc[:,[23,24,25,26,27,28,46,47,48,49,50,51]]\n",
    "population_over_65.head()"
   ]
  },
  {
   "cell_type": "code",
   "execution_count": 150,
   "metadata": {},
   "outputs": [
    {
     "data": {
      "text/html": [
       "<div>\n",
       "<style scoped>\n",
       "    .dataframe tbody tr th:only-of-type {\n",
       "        vertical-align: middle;\n",
       "    }\n",
       "\n",
       "    .dataframe tbody tr th {\n",
       "        vertical-align: top;\n",
       "    }\n",
       "\n",
       "    .dataframe thead th {\n",
       "        text-align: right;\n",
       "    }\n",
       "</style>\n",
       "<table border=\"1\" class=\"dataframe\">\n",
       "  <thead>\n",
       "    <tr style=\"text-align: right;\">\n",
       "      <th></th>\n",
       "      <th>do_date</th>\n",
       "      <th>total_pop</th>\n",
       "      <th>households</th>\n",
       "      <th>male_pop</th>\n",
       "      <th>female_pop</th>\n",
       "      <th>median_age</th>\n",
       "      <th>male_under_5</th>\n",
       "      <th>male_5_to_9</th>\n",
       "      <th>male_10_to_14</th>\n",
       "      <th>male_15_to_17</th>\n",
       "      <th>...</th>\n",
       "      <th>in_grades_1_to_4</th>\n",
       "      <th>in_grades_5_to_8</th>\n",
       "      <th>in_grades_9_to_12</th>\n",
       "      <th>in_school</th>\n",
       "      <th>in_undergrad_college</th>\n",
       "      <th>speak_only_english_at_home</th>\n",
       "      <th>speak_spanish_at_home</th>\n",
       "      <th>speak_spanish_at_home_low_english</th>\n",
       "      <th>poverty_rate</th>\n",
       "      <th>pop_over_65</th>\n",
       "    </tr>\n",
       "    <tr>\n",
       "      <th>geo_id</th>\n",
       "      <th></th>\n",
       "      <th></th>\n",
       "      <th></th>\n",
       "      <th></th>\n",
       "      <th></th>\n",
       "      <th></th>\n",
       "      <th></th>\n",
       "      <th></th>\n",
       "      <th></th>\n",
       "      <th></th>\n",
       "      <th></th>\n",
       "      <th></th>\n",
       "      <th></th>\n",
       "      <th></th>\n",
       "      <th></th>\n",
       "      <th></th>\n",
       "      <th></th>\n",
       "      <th></th>\n",
       "      <th></th>\n",
       "      <th></th>\n",
       "      <th></th>\n",
       "    </tr>\n",
       "  </thead>\n",
       "  <tbody>\n",
       "    <tr>\n",
       "      <th>42057</th>\n",
       "      <td>2014-01-01</td>\n",
       "      <td>14506.0</td>\n",
       "      <td>5950.0</td>\n",
       "      <td>7360.0</td>\n",
       "      <td>7146.0</td>\n",
       "      <td>45.0</td>\n",
       "      <td>405.0</td>\n",
       "      <td>468.0</td>\n",
       "      <td>384.0</td>\n",
       "      <td>290.0</td>\n",
       "      <td>...</td>\n",
       "      <td>637.0</td>\n",
       "      <td>665.0</td>\n",
       "      <td>732.0</td>\n",
       "      <td>2767.0</td>\n",
       "      <td>334.0</td>\n",
       "      <td>NaN</td>\n",
       "      <td>NaN</td>\n",
       "      <td>NaN</td>\n",
       "      <td>0.113746</td>\n",
       "      <td>2992.0</td>\n",
       "    </tr>\n",
       "    <tr>\n",
       "      <th>42105</th>\n",
       "      <td>2014-01-01</td>\n",
       "      <td>16937.0</td>\n",
       "      <td>6523.0</td>\n",
       "      <td>8475.0</td>\n",
       "      <td>8462.0</td>\n",
       "      <td>46.7</td>\n",
       "      <td>444.0</td>\n",
       "      <td>492.0</td>\n",
       "      <td>569.0</td>\n",
       "      <td>327.0</td>\n",
       "      <td>...</td>\n",
       "      <td>765.0</td>\n",
       "      <td>840.0</td>\n",
       "      <td>846.0</td>\n",
       "      <td>3258.0</td>\n",
       "      <td>316.0</td>\n",
       "      <td>NaN</td>\n",
       "      <td>NaN</td>\n",
       "      <td>NaN</td>\n",
       "      <td>0.141229</td>\n",
       "      <td>3860.0</td>\n",
       "    </tr>\n",
       "    <tr>\n",
       "      <th>42053</th>\n",
       "      <td>2014-01-01</td>\n",
       "      <td>7351.0</td>\n",
       "      <td>1631.0</td>\n",
       "      <td>5807.0</td>\n",
       "      <td>1544.0</td>\n",
       "      <td>40.4</td>\n",
       "      <td>81.0</td>\n",
       "      <td>51.0</td>\n",
       "      <td>123.0</td>\n",
       "      <td>232.0</td>\n",
       "      <td>...</td>\n",
       "      <td>121.0</td>\n",
       "      <td>205.0</td>\n",
       "      <td>345.0</td>\n",
       "      <td>794.0</td>\n",
       "      <td>57.0</td>\n",
       "      <td>NaN</td>\n",
       "      <td>NaN</td>\n",
       "      <td>NaN</td>\n",
       "      <td>0.063529</td>\n",
       "      <td>1626.0</td>\n",
       "    </tr>\n",
       "    <tr>\n",
       "      <th>42113</th>\n",
       "      <td>2014-01-01</td>\n",
       "      <td>6177.0</td>\n",
       "      <td>2721.0</td>\n",
       "      <td>3253.0</td>\n",
       "      <td>2924.0</td>\n",
       "      <td>53.1</td>\n",
       "      <td>100.0</td>\n",
       "      <td>77.0</td>\n",
       "      <td>100.0</td>\n",
       "      <td>97.0</td>\n",
       "      <td>...</td>\n",
       "      <td>136.0</td>\n",
       "      <td>152.0</td>\n",
       "      <td>284.0</td>\n",
       "      <td>845.0</td>\n",
       "      <td>147.0</td>\n",
       "      <td>NaN</td>\n",
       "      <td>NaN</td>\n",
       "      <td>NaN</td>\n",
       "      <td>0.129675</td>\n",
       "      <td>1665.0</td>\n",
       "    </tr>\n",
       "    <tr>\n",
       "      <th>42031</th>\n",
       "      <td>2014-01-01</td>\n",
       "      <td>38827.0</td>\n",
       "      <td>15824.0</td>\n",
       "      <td>18962.0</td>\n",
       "      <td>19865.0</td>\n",
       "      <td>41.2</td>\n",
       "      <td>1016.0</td>\n",
       "      <td>1155.0</td>\n",
       "      <td>890.0</td>\n",
       "      <td>639.0</td>\n",
       "      <td>...</td>\n",
       "      <td>1787.0</td>\n",
       "      <td>1398.0</td>\n",
       "      <td>1648.0</td>\n",
       "      <td>9029.0</td>\n",
       "      <td>2994.0</td>\n",
       "      <td>NaN</td>\n",
       "      <td>NaN</td>\n",
       "      <td>NaN</td>\n",
       "      <td>0.156927</td>\n",
       "      <td>7260.0</td>\n",
       "    </tr>\n",
       "  </tbody>\n",
       "</table>\n",
       "<p>5 rows × 243 columns</p>\n",
       "</div>"
      ],
      "text/plain": [
       "           do_date  total_pop  households  male_pop  female_pop  median_age  \\\n",
       "geo_id                                                                        \n",
       "42057   2014-01-01    14506.0      5950.0    7360.0      7146.0        45.0   \n",
       "42105   2014-01-01    16937.0      6523.0    8475.0      8462.0        46.7   \n",
       "42053   2014-01-01     7351.0      1631.0    5807.0      1544.0        40.4   \n",
       "42113   2014-01-01     6177.0      2721.0    3253.0      2924.0        53.1   \n",
       "42031   2014-01-01    38827.0     15824.0   18962.0     19865.0        41.2   \n",
       "\n",
       "        male_under_5  male_5_to_9  male_10_to_14  male_15_to_17  ...  \\\n",
       "geo_id                                                           ...   \n",
       "42057          405.0        468.0          384.0          290.0  ...   \n",
       "42105          444.0        492.0          569.0          327.0  ...   \n",
       "42053           81.0         51.0          123.0          232.0  ...   \n",
       "42113          100.0         77.0          100.0           97.0  ...   \n",
       "42031         1016.0       1155.0          890.0          639.0  ...   \n",
       "\n",
       "        in_grades_1_to_4  in_grades_5_to_8  in_grades_9_to_12  in_school  \\\n",
       "geo_id                                                                     \n",
       "42057              637.0             665.0              732.0     2767.0   \n",
       "42105              765.0             840.0              846.0     3258.0   \n",
       "42053              121.0             205.0              345.0      794.0   \n",
       "42113              136.0             152.0              284.0      845.0   \n",
       "42031             1787.0            1398.0             1648.0     9029.0   \n",
       "\n",
       "        in_undergrad_college  speak_only_english_at_home  \\\n",
       "geo_id                                                     \n",
       "42057                  334.0                         NaN   \n",
       "42105                  316.0                         NaN   \n",
       "42053                   57.0                         NaN   \n",
       "42113                  147.0                         NaN   \n",
       "42031                 2994.0                         NaN   \n",
       "\n",
       "        speak_spanish_at_home  speak_spanish_at_home_low_english  \\\n",
       "geo_id                                                             \n",
       "42057                     NaN                                NaN   \n",
       "42105                     NaN                                NaN   \n",
       "42053                     NaN                                NaN   \n",
       "42113                     NaN                                NaN   \n",
       "42031                     NaN                                NaN   \n",
       "\n",
       "        poverty_rate  pop_over_65  \n",
       "geo_id                             \n",
       "42057       0.113746       2992.0  \n",
       "42105       0.141229       3860.0  \n",
       "42053       0.063529       1626.0  \n",
       "42113       0.129675       1665.0  \n",
       "42031       0.156927       7260.0  \n",
       "\n",
       "[5 rows x 243 columns]"
      ]
     },
     "execution_count": 150,
     "metadata": {},
     "output_type": "execute_result"
    }
   ],
   "source": [
    "#adding new column over population over 65 to main dataframe\n",
    "census_df['pop_over_65'] = population_over_65.transpose().sum()\n",
    "census_df.head()"
   ]
  },
  {
   "cell_type": "code",
   "execution_count": 156,
   "metadata": {},
   "outputs": [
    {
     "data": {
      "text/html": [
       "<div>\n",
       "<style scoped>\n",
       "    .dataframe tbody tr th:only-of-type {\n",
       "        vertical-align: middle;\n",
       "    }\n",
       "\n",
       "    .dataframe tbody tr th {\n",
       "        vertical-align: top;\n",
       "    }\n",
       "\n",
       "    .dataframe thead th {\n",
       "        text-align: right;\n",
       "    }\n",
       "</style>\n",
       "<table border=\"1\" class=\"dataframe\">\n",
       "  <thead>\n",
       "    <tr style=\"text-align: right;\">\n",
       "      <th></th>\n",
       "      <th>total_pop</th>\n",
       "      <th>poverty_rate</th>\n",
       "      <th>pop_over_65</th>\n",
       "    </tr>\n",
       "  </thead>\n",
       "  <tbody>\n",
       "    <tr>\n",
       "      <th>total_pop</th>\n",
       "      <td>1.000000</td>\n",
       "      <td>0.078809</td>\n",
       "      <td>0.986013</td>\n",
       "    </tr>\n",
       "    <tr>\n",
       "      <th>poverty_rate</th>\n",
       "      <td>0.078809</td>\n",
       "      <td>1.000000</td>\n",
       "      <td>0.001637</td>\n",
       "    </tr>\n",
       "    <tr>\n",
       "      <th>pop_over_65</th>\n",
       "      <td>0.986013</td>\n",
       "      <td>0.001637</td>\n",
       "      <td>1.000000</td>\n",
       "    </tr>\n",
       "  </tbody>\n",
       "</table>\n",
       "</div>"
      ],
      "text/plain": [
       "              total_pop  poverty_rate  pop_over_65\n",
       "total_pop      1.000000      0.078809     0.986013\n",
       "poverty_rate   0.078809      1.000000     0.001637\n",
       "pop_over_65    0.986013      0.001637     1.000000"
      ]
     },
     "execution_count": 156,
     "metadata": {},
     "output_type": "execute_result"
    }
   ],
   "source": [
    "#creating new df of population over 65, total population, and poverty rate\n",
    "pop_pov_65 = pd.concat([census_df['total_pop'], census_df['poverty_rate'], census_df['pop_over_65']], join = 'inner', axis = 1)\n",
    "pop_pov_65.corr()"
   ]
  },
  {
   "cell_type": "code",
   "execution_count": 175,
   "metadata": {},
   "outputs": [
    {
     "data": {},
     "metadata": {},
     "output_type": "display_data"
    },
    {
     "data": {
      "application/vnd.holoviews_exec.v0+json": "",
      "text/html": [
       "<div id='3313'>\n",
       "\n",
       "\n",
       "\n",
       "\n",
       "\n",
       "  <div class=\"bk-root\" id=\"6918d356-2dc7-43eb-965a-323d34e6c4c6\" data-root-id=\"3313\"></div>\n",
       "</div>\n",
       "<script type=\"application/javascript\">(function(root) {\n",
       "  function embed_document(root) {\n",
       "    var docs_json = {\"c5bdb7d5-091c-4acd-b709-ffb1c7b70216\":{\"roots\":{\"references\":[{\"attributes\":{\"source\":{\"id\":\"3348\"}},\"id\":\"3355\",\"type\":\"CDSView\"},{\"attributes\":{},\"id\":\"3367\",\"type\":\"LinearScale\"},{\"attributes\":{},\"id\":\"3335\",\"type\":\"SaveTool\"},{\"attributes\":{},\"id\":\"3336\",\"type\":\"PanTool\"},{\"attributes\":{\"axis_label\":\"total_pop\",\"bounds\":\"auto\",\"formatter\":{\"id\":\"3401\"},\"major_label_orientation\":\"horizontal\",\"ticker\":{\"id\":\"3372\"}},\"id\":\"3371\",\"type\":\"LinearAxis\"},{\"attributes\":{},\"id\":\"3339\",\"type\":\"ResetTool\"},{\"attributes\":{},\"id\":\"3337\",\"type\":\"WheelZoomTool\"},{\"attributes\":{},\"id\":\"3369\",\"type\":\"LinearScale\"},{\"attributes\":{\"overlay\":{\"id\":\"3340\"}},\"id\":\"3338\",\"type\":\"BoxZoomTool\"},{\"attributes\":{},\"id\":\"3372\",\"type\":\"BasicTicker\"},{\"attributes\":{\"axis\":{\"id\":\"3375\"},\"dimension\":1,\"grid_line_color\":null,\"ticker\":null},\"id\":\"3378\",\"type\":\"Grid\"},{\"attributes\":{\"axis\":{\"id\":\"3371\"},\"grid_line_color\":null,\"ticker\":null},\"id\":\"3374\",\"type\":\"Grid\"},{\"attributes\":{\"fill_alpha\":{\"value\":0.1},\"fill_color\":{\"value\":\"#30a2da\"},\"line_alpha\":{\"value\":0.1},\"line_color\":{\"value\":\"#30a2da\"},\"size\":{\"units\":\"screen\",\"value\":5.477225575051661},\"x\":{\"field\":\"pop_over_65\"},\"y\":{\"field\":\"poverty_rate\"}},\"id\":\"3352\",\"type\":\"Scatter\"},{\"attributes\":{\"axis_label\":\"poverty_rate\",\"bounds\":\"auto\",\"formatter\":{\"id\":\"3403\"},\"major_label_orientation\":\"horizontal\",\"ticker\":{\"id\":\"3376\"}},\"id\":\"3375\",\"type\":\"LinearAxis\"},{\"attributes\":{},\"id\":\"3376\",\"type\":\"BasicTicker\"},{\"attributes\":{\"end\":0.2599438230123801,\"reset_end\":0.2599438230123801,\"reset_start\":0.04154602022617121,\"start\":0.04154602022617121,\"tags\":[[[\"poverty_rate\",\"poverty_rate\",null]]]},\"id\":\"3316\",\"type\":\"Range1d\"},{\"attributes\":{\"data_source\":{\"id\":\"3392\"},\"glyph\":{\"id\":\"3395\"},\"hover_glyph\":null,\"muted_glyph\":{\"id\":\"3397\"},\"nonselection_glyph\":{\"id\":\"3396\"},\"selection_glyph\":null,\"view\":{\"id\":\"3399\"}},\"id\":\"3398\",\"type\":\"GlyphRenderer\"},{\"attributes\":{\"callback\":null,\"renderers\":[{\"id\":\"3354\"}],\"tags\":[\"hv_created\"],\"tooltips\":[[\"pop_over_65\",\"@{pop_over_65}\"],[\"poverty_rate\",\"@{poverty_rate}\"]]},\"id\":\"3317\",\"type\":\"HoverTool\"},{\"attributes\":{\"data\":{\"pop_over_65\":{\"__ndarray__\":\"AAAAAABgp0AAAAAAACiuQAAAAAAAaJlAAAAAAAAEmkAAAAAAAFy8QAAAAAAAKJNAAAAAAAB7u0AAAAAAgB3PQAAAAAAA6sFAAAAAAAAQukAAAAAAAEa+QAAAAAAAJrxAAAAAAACiskAAAAAAgNDCQAAAAAAAuMFAAAAAAAAyrUAAAAAAADm1QAAAAACAy8dAAAAAAABDyEAAAAAAADS5QAAAAACAvMRAAAAAAABBy0AAAAAA4NTqQAAAAAAgfOVAAAAAAKAQ7kAAAAAAgFPQQAAAAACA5eNAAAAAAMDr1EAAAAAAQBzcQAAAAAAATsFAAAAAAEC/1EAAAAAAYIn2QAAAAADgn+ZAAAAAAMCc5UAAAAAAAH7OQAAAAABAquxAAAAAABDv+kAAAAAAAH/zQAAAAAAAddlAAAAAAIABwUAAAAAAAEK/QAAAAABAcdJAAAAAAAAoyUAAAAAAgNDOQAAAAACAicVAAAAAAAAj00AAAAAAAD7cQAAAAAAAnNpAAAAAAMCr4EAAAAAAADy+QAAAAADAmdtAAAAAAIA9x0AAAAAA4N3wQAAAAAAAwcBAAAAAAIAQx0AAAAAAgMbWQAAAAACgIuBAAAAAAGgLAUEAAAAAwPzZQAAAAACgtvJAAAAAAMDo40AAAAAAAPrRQAAAAACA8ddAAAAAAGAO8kAAAAAAWFYJQQAAAACQGAtBAAAAAMCV9UA=\",\"dtype\":\"float64\",\"order\":\"little\",\"shape\":[67]},\"poverty_rate\":{\"__ndarray__\":\"PqYy0XUevT/+/G7pzBPCP5nMW+xrQ7A/h8yZYS2ZwD/deWcWLhbEPyfJGcwsKsI/N88aYnFDxT8mmR85vKa9P8jOHKt8Cb8/b0PzbBh3wD/gNHHdaAi3P9Aw/tagmLk/7YBParT5vT+zF5bNaCbCP/jEUSSkEb4/VNbiFbZiuz8wiZBqWQe6P0EExy6NAsE/00cG/PhNvj8fal8vDsa4P3Yp9e21GsA/o55QpeqmvT+ZyF0bTnO2P8RubLxK7bE/gDYnPahTwj9PfZDatTLBP8RWKMAcKbc/xxw/zUzaxD96Gjai9KDCPy/ay5gGdME/XmBRI04qwT+7AEmzRvG4P6k8JNpa28M/IUyFAqvavz/Yh40KwwvEPyRSOjOWML8/Z1gMoQGXrj+IihQqHPCwP7tm0LvD+rk/Sc7UAOrPvz/+jSAsTXO1P82F2tt7B8E/pAzRFlp6vz9F5cSgtaLBP0w1v0J3UsE/48dVWmmStT8PHNtTgwq6P8SyvwavB70/4U4Oh798uz90NzBJGNfDP9Y8au4W174/anUVonNCuT9uSVcKYcm/P12r0tmZ7ME/m+CeLTqUuz9d+zPvHPnAP1NtTB1EhLQ/6mJZViYWrz9yehXllPLFP2aUDQLdFbk/iluuSd6cwj+WZtQyV5rBP4Agq1DIPMI/5R+6cv0CuT8ufSG0d/HOPy3d95VSQb4/hPzQrWq+uD8=\",\"dtype\":\"float64\",\"order\":\"little\",\"shape\":[67]}},\"selected\":{\"id\":\"3349\"},\"selection_policy\":{\"id\":\"3411\"}},\"id\":\"3348\",\"type\":\"ColumnDataSource\"},{\"attributes\":{\"end\":1642843.5428571429,\"reset_end\":1642843.5428571429,\"reset_start\":-62635.542857142864,\"start\":-62635.542857142864,\"tags\":[[[\"total_pop\",\"total_pop\",null]]]},\"id\":\"3360\",\"type\":\"Range1d\"},{\"attributes\":{\"fill_alpha\":{\"value\":0.2},\"fill_color\":{\"value\":\"#30a2da\"},\"line_alpha\":{\"value\":0.2},\"line_color\":{\"value\":\"#30a2da\"},\"size\":{\"units\":\"screen\",\"value\":5.477225575051661},\"x\":{\"field\":\"pop_over_65\"},\"y\":{\"field\":\"poverty_rate\"}},\"id\":\"3353\",\"type\":\"Scatter\"},{\"attributes\":{\"fill_color\":{\"value\":\"red\"},\"line_color\":{\"value\":\"red\"},\"size\":{\"units\":\"screen\",\"value\":5.477225575051661},\"x\":{\"field\":\"total_pop\"},\"y\":{\"field\":\"poverty_rate\"}},\"id\":\"3395\",\"type\":\"Scatter\"},{\"attributes\":{\"source\":{\"id\":\"3392\"}},\"id\":\"3399\",\"type\":\"CDSView\"},{\"attributes\":{\"active_drag\":\"auto\",\"active_inspect\":\"auto\",\"active_multi\":null,\"active_scroll\":\"auto\",\"active_tap\":\"auto\",\"tools\":[{\"id\":\"3317\"},{\"id\":\"3335\"},{\"id\":\"3336\"},{\"id\":\"3337\"},{\"id\":\"3338\"},{\"id\":\"3339\"}]},\"id\":\"3341\",\"type\":\"Toolbar\"},{\"attributes\":{},\"id\":\"3379\",\"type\":\"SaveTool\"},{\"attributes\":{},\"id\":\"3380\",\"type\":\"PanTool\"},{\"attributes\":{\"bottom_units\":\"screen\",\"fill_alpha\":0.5,\"fill_color\":\"lightgrey\",\"left_units\":\"screen\",\"level\":\"overlay\",\"line_alpha\":1.0,\"line_color\":\"black\",\"line_dash\":[4,4],\"line_width\":2,\"right_units\":\"screen\",\"top_units\":\"screen\"},\"id\":\"3340\",\"type\":\"BoxAnnotation\"},{\"attributes\":{},\"id\":\"3383\",\"type\":\"ResetTool\"},{\"attributes\":{\"text\":\"\",\"text_color\":{\"value\":\"black\"},\"text_font_size\":{\"value\":\"12pt\"}},\"id\":\"3319\",\"type\":\"Title\"},{\"attributes\":{},\"id\":\"3381\",\"type\":\"WheelZoomTool\"},{\"attributes\":{\"data_source\":{\"id\":\"3348\"},\"glyph\":{\"id\":\"3351\"},\"hover_glyph\":null,\"muted_glyph\":{\"id\":\"3353\"},\"nonselection_glyph\":{\"id\":\"3352\"},\"selection_glyph\":null,\"view\":{\"id\":\"3355\"}},\"id\":\"3354\",\"type\":\"GlyphRenderer\"},{\"attributes\":{},\"id\":\"3411\",\"type\":\"UnionRenderers\"},{\"attributes\":{},\"id\":\"3349\",\"type\":\"Selection\"},{\"attributes\":{\"overlay\":{\"id\":\"3384\"}},\"id\":\"3382\",\"type\":\"BoxZoomTool\"},{\"attributes\":{\"below\":[{\"id\":\"3327\"}],\"center\":[{\"id\":\"3330\"},{\"id\":\"3334\"}],\"left\":[{\"id\":\"3331\"}],\"margin\":null,\"min_border_bottom\":10,\"min_border_left\":10,\"min_border_right\":10,\"min_border_top\":10,\"plot_height\":300,\"plot_width\":700,\"renderers\":[{\"id\":\"3354\"}],\"sizing_mode\":\"fixed\",\"title\":{\"id\":\"3319\"},\"toolbar\":{\"id\":\"3341\"},\"toolbar_location\":null,\"x_range\":{\"id\":\"3315\"},\"x_scale\":{\"id\":\"3323\"},\"y_range\":{\"id\":\"3316\"},\"y_scale\":{\"id\":\"3325\"}},\"id\":\"3318\",\"subtype\":\"Figure\",\"type\":\"Plot\"},{\"attributes\":{\"children\":[{\"id\":\"3314\"},{\"id\":\"3425\"},{\"id\":\"3570\"}],\"margin\":[0,0,0,0],\"name\":\"Row08402\",\"tags\":[\"embedded\"]},\"id\":\"3313\",\"type\":\"Row\"},{\"attributes\":{\"callback\":null,\"renderers\":[{\"id\":\"3398\"}],\"tags\":[\"hv_created\"],\"tooltips\":[[\"total_pop\",\"@{total_pop}\"],[\"poverty_rate\",\"@{poverty_rate}\"]]},\"id\":\"3361\",\"type\":\"HoverTool\"},{\"attributes\":{\"data\":{\"poverty_rate\":{\"__ndarray__\":\"PqYy0XUevT/+/G7pzBPCP5nMW+xrQ7A/h8yZYS2ZwD/deWcWLhbEPyfJGcwsKsI/N88aYnFDxT8mmR85vKa9P8jOHKt8Cb8/b0PzbBh3wD/gNHHdaAi3P9Aw/tagmLk/7YBParT5vT+zF5bNaCbCP/jEUSSkEb4/VNbiFbZiuz8wiZBqWQe6P0EExy6NAsE/00cG/PhNvj8fal8vDsa4P3Yp9e21GsA/o55QpeqmvT+ZyF0bTnO2P8RubLxK7bE/gDYnPahTwj9PfZDatTLBP8RWKMAcKbc/xxw/zUzaxD96Gjai9KDCPy/ay5gGdME/XmBRI04qwT+7AEmzRvG4P6k8JNpa28M/IUyFAqvavz/Yh40KwwvEPyRSOjOWML8/Z1gMoQGXrj+IihQqHPCwP7tm0LvD+rk/Sc7UAOrPvz/+jSAsTXO1P82F2tt7B8E/pAzRFlp6vz9F5cSgtaLBP0w1v0J3UsE/48dVWmmStT8PHNtTgwq6P8SyvwavB70/4U4Oh798uz90NzBJGNfDP9Y8au4W174/anUVonNCuT9uSVcKYcm/P12r0tmZ7ME/m+CeLTqUuz9d+zPvHPnAP1NtTB1EhLQ/6mJZViYWrz9yehXllPLFP2aUDQLdFbk/iluuSd6cwj+WZtQyV5rBP4Agq1DIPMI/5R+6cv0CuT8ufSG0d/HOPy3d95VSQb4/hPzQrWq+uD8=\",\"dtype\":\"float64\",\"order\":\"little\",\"shape\":[67]},\"total_pop\":{\"__ndarray__\":\"AAAAAABVzEAAAAAAQIrQQAAAAAAAt7xAAAAAAAAhuEAAAAAAYPXiQAAAAAAATrJAAAAAAEAU40AAAAAAUEzyQAAAAACAL+RAAAAAAAAj4kAAAAAAQAfmQAAAAABAwuNAAAAAAID810AAAAAAQKPmQAAAAACgLeZAAAAAAIDd0UAAAAAAAPHaQAAAAADAKvBAAAAAAADv7UAAAAAAAOTdQAAAAABgvOdAAAAAALAx8EAAAAAASGsSQQAAAABINA5BAAAAAPBmE0EAAAAAQAn1QAAAAADYVQlBAAAAABi1A0EAAAAAsGwAQQAAAACAhuVAAAAAALAK/EAAAAAA1m0gQQAAAAAQ2BBBAAAAAEzBEEEAAAAAsO/0QAAAAADUIRZBAAAAAIQdI0EAAAAAkJAfQQAAAACQ7QBBAAAAAGCM40AAAAAAgGzmQAAAAABQivZAAAAAAGA370AAAAAAgJXzQAAAAAAAk+lAAAAAAHDo+EAAAAAAuMQCQQAAAAAQdQRBAAAAAIBfBEEAAAAAwGnkQAAAAAAYhgFBAAAAAEAZ60AAAAAACG4ZQQAAAABAIeRAAAAAAAAq6UAAAAAAYH/7QAAAAAAwxgZBAAAAAGoQKUEAAAAACCYAQQAAAAD8phVBAAAAAPDPCUEAAAAAYFX1QAAAAAAgPP5AAAAAALgZG0EAAAAAYgo4QQAAAABZszJBAAAAAI4yIUE=\",\"dtype\":\"float64\",\"order\":\"little\",\"shape\":[67]}},\"selected\":{\"id\":\"3393\"},\"selection_policy\":{\"id\":\"3420\"}},\"id\":\"3392\",\"type\":\"ColumnDataSource\"},{\"attributes\":{\"margin\":[5,5,5,5],\"name\":\"HSpacer08406\",\"sizing_mode\":\"stretch_width\"},\"id\":\"3314\",\"type\":\"Spacer\"},{\"attributes\":{\"margin\":[5,5,5,5],\"name\":\"HSpacer08407\",\"sizing_mode\":\"stretch_width\"},\"id\":\"3570\",\"type\":\"Spacer\"},{\"attributes\":{\"end\":231430.45714285714,\"reset_end\":231430.45714285714,\"reset_start\":-8234.457142857143,\"start\":-8234.457142857143,\"tags\":[[[\"pop_over_65\",\"pop_over_65\",null]]]},\"id\":\"3315\",\"type\":\"Range1d\"},{\"attributes\":{},\"id\":\"3323\",\"type\":\"LinearScale\"},{\"attributes\":{\"children\":[{\"id\":\"3424\"},{\"id\":\"3422\"}]},\"id\":\"3425\",\"type\":\"Column\"},{\"attributes\":{\"axis_label\":\"pop_over_65\",\"bounds\":\"auto\",\"formatter\":{\"id\":\"3357\"},\"major_label_orientation\":\"horizontal\",\"ticker\":{\"id\":\"3328\"}},\"id\":\"3327\",\"type\":\"LinearAxis\"},{\"attributes\":{},\"id\":\"3359\",\"type\":\"BasicTickFormatter\"},{\"attributes\":{\"toolbar\":{\"id\":\"3423\"},\"toolbar_location\":\"above\"},\"id\":\"3424\",\"type\":\"ToolbarBox\"},{\"attributes\":{},\"id\":\"3325\",\"type\":\"LinearScale\"},{\"attributes\":{},\"id\":\"3357\",\"type\":\"BasicTickFormatter\"},{\"attributes\":{\"active_drag\":\"auto\",\"active_inspect\":\"auto\",\"active_multi\":null,\"active_scroll\":\"auto\",\"active_tap\":\"auto\",\"tools\":[{\"id\":\"3361\"},{\"id\":\"3379\"},{\"id\":\"3380\"},{\"id\":\"3381\"},{\"id\":\"3382\"},{\"id\":\"3383\"}]},\"id\":\"3385\",\"type\":\"Toolbar\"},{\"attributes\":{\"toolbars\":[{\"id\":\"3341\"},{\"id\":\"3385\"}],\"tools\":[{\"id\":\"3317\"},{\"id\":\"3335\"},{\"id\":\"3336\"},{\"id\":\"3337\"},{\"id\":\"3338\"},{\"id\":\"3339\"},{\"id\":\"3361\"},{\"id\":\"3379\"},{\"id\":\"3380\"},{\"id\":\"3381\"},{\"id\":\"3382\"},{\"id\":\"3383\"}]},\"id\":\"3423\",\"type\":\"ProxyToolbar\"},{\"attributes\":{},\"id\":\"3328\",\"type\":\"BasicTicker\"},{\"attributes\":{\"axis_label\":\"poverty_rate\",\"bounds\":\"auto\",\"formatter\":{\"id\":\"3359\"},\"major_label_orientation\":\"horizontal\",\"ticker\":{\"id\":\"3332\"}},\"id\":\"3331\",\"type\":\"LinearAxis\"},{\"attributes\":{\"axis\":{\"id\":\"3327\"},\"grid_line_color\":null,\"ticker\":null},\"id\":\"3330\",\"type\":\"Grid\"},{\"attributes\":{\"text\":\"\",\"text_color\":{\"value\":\"black\"},\"text_font_size\":{\"value\":\"12pt\"}},\"id\":\"3363\",\"type\":\"Title\"},{\"attributes\":{\"bottom_units\":\"screen\",\"fill_alpha\":0.5,\"fill_color\":\"lightgrey\",\"left_units\":\"screen\",\"level\":\"overlay\",\"line_alpha\":1.0,\"line_color\":\"black\",\"line_dash\":[4,4],\"line_width\":2,\"right_units\":\"screen\",\"top_units\":\"screen\"},\"id\":\"3384\",\"type\":\"BoxAnnotation\"},{\"attributes\":{\"fill_alpha\":{\"value\":0.1},\"fill_color\":{\"value\":\"red\"},\"line_alpha\":{\"value\":0.1},\"line_color\":{\"value\":\"red\"},\"size\":{\"units\":\"screen\",\"value\":5.477225575051661},\"x\":{\"field\":\"total_pop\"},\"y\":{\"field\":\"poverty_rate\"}},\"id\":\"3396\",\"type\":\"Scatter\"},{\"attributes\":{\"children\":[[{\"id\":\"3318\"},0,0],[{\"id\":\"3362\"},0,1]]},\"id\":\"3422\",\"type\":\"GridBox\"},{\"attributes\":{\"below\":[{\"id\":\"3371\"}],\"center\":[{\"id\":\"3374\"},{\"id\":\"3378\"}],\"left\":[{\"id\":\"3375\"}],\"margin\":null,\"min_border_bottom\":10,\"min_border_left\":10,\"min_border_right\":10,\"min_border_top\":10,\"plot_height\":300,\"plot_width\":700,\"renderers\":[{\"id\":\"3398\"}],\"sizing_mode\":\"fixed\",\"title\":{\"id\":\"3363\"},\"toolbar\":{\"id\":\"3385\"},\"toolbar_location\":null,\"x_range\":{\"id\":\"3360\"},\"x_scale\":{\"id\":\"3367\"},\"y_range\":{\"id\":\"3316\"},\"y_scale\":{\"id\":\"3369\"}},\"id\":\"3362\",\"subtype\":\"Figure\",\"type\":\"Plot\"},{\"attributes\":{},\"id\":\"3332\",\"type\":\"BasicTicker\"},{\"attributes\":{\"axis\":{\"id\":\"3331\"},\"dimension\":1,\"grid_line_color\":null,\"ticker\":null},\"id\":\"3334\",\"type\":\"Grid\"},{\"attributes\":{},\"id\":\"3403\",\"type\":\"BasicTickFormatter\"},{\"attributes\":{},\"id\":\"3393\",\"type\":\"Selection\"},{\"attributes\":{\"fill_color\":{\"value\":\"#30a2da\"},\"line_color\":{\"value\":\"#30a2da\"},\"size\":{\"units\":\"screen\",\"value\":5.477225575051661},\"x\":{\"field\":\"pop_over_65\"},\"y\":{\"field\":\"poverty_rate\"}},\"id\":\"3351\",\"type\":\"Scatter\"},{\"attributes\":{},\"id\":\"3401\",\"type\":\"BasicTickFormatter\"},{\"attributes\":{},\"id\":\"3420\",\"type\":\"UnionRenderers\"},{\"attributes\":{\"fill_alpha\":{\"value\":0.2},\"fill_color\":{\"value\":\"red\"},\"line_alpha\":{\"value\":0.2},\"line_color\":{\"value\":\"red\"},\"size\":{\"units\":\"screen\",\"value\":5.477225575051661},\"x\":{\"field\":\"total_pop\"},\"y\":{\"field\":\"poverty_rate\"}},\"id\":\"3397\",\"type\":\"Scatter\"}],\"root_ids\":[\"3313\"]},\"title\":\"Bokeh Application\",\"version\":\"2.2.3\"}};\n",
       "    var render_items = [{\"docid\":\"c5bdb7d5-091c-4acd-b709-ffb1c7b70216\",\"root_ids\":[\"3313\"],\"roots\":{\"3313\":\"6918d356-2dc7-43eb-965a-323d34e6c4c6\"}}];\n",
       "    root.Bokeh.embed.embed_items_notebook(docs_json, render_items);\n",
       "  }\n",
       "  if (root.Bokeh !== undefined && root.Bokeh.Panel !== undefined) {\n",
       "    embed_document(root);\n",
       "  } else {\n",
       "    var attempts = 0;\n",
       "    var timer = setInterval(function(root) {\n",
       "      if (root.Bokeh !== undefined && root.Bokeh.Panel !== undefined) {\n",
       "        clearInterval(timer);\n",
       "        embed_document(root);\n",
       "      } else if (document.readyState == \"complete\") {\n",
       "        attempts++;\n",
       "        if (attempts > 100) {\n",
       "          clearInterval(timer);\n",
       "          console.log(\"Bokeh: ERROR: Unable to run BokehJS code because BokehJS library is missing\");\n",
       "        }\n",
       "      }\n",
       "    }, 10, root)\n",
       "  }\n",
       "})(window);</script>"
      ],
      "text/plain": [
       ":Layout\n",
       "   .Scatter.I  :Scatter   [pop_over_65]   (poverty_rate)\n",
       "   .Scatter.II :Scatter   [total_pop]   (poverty_rate)"
      ]
     },
     "execution_count": 175,
     "metadata": {
      "application/vnd.holoviews_exec.v0+json": {
       "id": "3313"
      }
     },
     "output_type": "execute_result"
    }
   ],
   "source": [
    "#comparing poverty rates in total population and population over 65\n",
    "census_df.hvplot(kind = 'scatter', x = 'pop_over_65', y = 'poverty_rate') + census_df.hvplot(kind = 'scatter', x = 'total_pop', y = 'poverty_rate', color = 'red')"
   ]
  },
  {
   "cell_type": "markdown",
   "metadata": {},
   "source": [
    "I do not see a relationship between a county's population over 65 and their poverty rate. Population over 65 had a weaker correlation (.0016) than that of total population and poverty rate (.0788)"
   ]
  },
  {
   "cell_type": "markdown",
   "metadata": {},
   "source": [
    "### Question 6"
   ]
  },
  {
   "cell_type": "markdown",
   "metadata": {},
   "source": [
    "How many households are on public assistance or food stamps in PA?"
   ]
  },
  {
   "cell_type": "code",
   "execution_count": 181,
   "metadata": {},
   "outputs": [],
   "source": [
    "#Getting the sum of people needing assistance or food stamps\n",
    "food_stamp_total = census_df['households_public_asst_or_food_stamps'].sum()"
   ]
  },
  {
   "cell_type": "code",
   "execution_count": 185,
   "metadata": {},
   "outputs": [],
   "source": [
    "#Getting the \n",
    "percent_households_on_food_stamps = (census_df['households_public_asst_or_food_stamps'] / census_df['households']).mean()"
   ]
  },
  {
   "cell_type": "code",
   "execution_count": 188,
   "metadata": {},
   "outputs": [
    {
     "name": "stdout",
     "output_type": "stream",
     "text": [
      " Number of households on public assistance/food stamps in PA: 700759.0\n",
      " Percent of households on public assistance/food stamps in PA: %13.672614664310846\n"
     ]
    }
   ],
   "source": [
    "print(f' Number of households on public assistance/food stamps in PA: {food_stamp_total}')\n",
    "print(f' Percent of households on public assistance/food stamps in PA: %{percent_households_on_food_stamps * 100}')"
   ]
  },
  {
   "cell_type": "markdown",
   "metadata": {},
   "source": [
    "### Question 7"
   ]
  },
  {
   "cell_type": "markdown",
   "metadata": {},
   "source": [
    "In looking at the county level data for poverty and for public assistance/food stamps, are there any counties where there might be a large ‘gap’, meaning that county has more people in poverty who have not enrolled in benefits, compared to other counties?  What assumptions do you need to make to answer this question?\n",
    "(NOTE: Generally people qualify for public assistance or food stamps at or below 185% of the poverty line. )\n",
    "\n"
   ]
  },
  {
   "cell_type": "code",
   "execution_count": 193,
   "metadata": {},
   "outputs": [
    {
     "data": {
      "text/plain": [
       "geo_id\n",
       "42057      1650.0\n",
       "42105      2392.0\n",
       "42053       467.0\n",
       "42113       801.0\n",
       "42031      6093.0\n",
       "           ...   \n",
       "42013     17645.0\n",
       "42133     43381.0\n",
       "42101    380873.0\n",
       "42003    144842.0\n",
       "42045     54468.0\n",
       "Name: poverty, Length: 67, dtype: float64"
      ]
     },
     "execution_count": 193,
     "metadata": {},
     "output_type": "execute_result"
    }
   ],
   "source": [
    "census_df['poverty']"
   ]
  },
  {
   "cell_type": "code",
   "execution_count": 194,
   "metadata": {},
   "outputs": [
    {
     "data": {
      "text/plain": [
       "geo_id\n",
       "42057       862.0\n",
       "42105       949.0\n",
       "42053       252.0\n",
       "42113       333.0\n",
       "42031      2266.0\n",
       "           ...   \n",
       "42013      8690.0\n",
       "42133     20198.0\n",
       "42101    159286.0\n",
       "42003     70064.0\n",
       "42045     24198.0\n",
       "Name: households_public_asst_or_food_stamps, Length: 67, dtype: float64"
      ]
     },
     "execution_count": 194,
     "metadata": {},
     "output_type": "execute_result"
    }
   ],
   "source": [
    "census_df['households_public_asst_or_food_stamps']"
   ]
  },
  {
   "cell_type": "code",
   "execution_count": 226,
   "metadata": {},
   "outputs": [
    {
     "data": {},
     "metadata": {},
     "output_type": "display_data"
    },
    {
     "data": {
      "application/vnd.holoviews_exec.v0+json": "",
      "text/html": [
       "<div id='6202'>\n",
       "\n",
       "\n",
       "\n",
       "\n",
       "\n",
       "  <div class=\"bk-root\" id=\"d85336ff-d6d7-4a81-88aa-2a0c3cfc95ea\" data-root-id=\"6202\"></div>\n",
       "</div>\n",
       "<script type=\"application/javascript\">(function(root) {\n",
       "  function embed_document(root) {\n",
       "    var docs_json = {\"0cd799e3-3ded-4db1-bcf9-1070bf23cf31\":{\"roots\":{\"references\":[{\"attributes\":{\"active_drag\":\"auto\",\"active_inspect\":\"auto\",\"active_multi\":null,\"active_scroll\":\"auto\",\"active_tap\":\"auto\",\"tools\":[{\"id\":\"6206\"},{\"id\":\"6223\"},{\"id\":\"6224\"},{\"id\":\"6225\"},{\"id\":\"6226\"},{\"id\":\"6227\"}]},\"id\":\"6229\",\"type\":\"Toolbar\"},{\"attributes\":{},\"id\":\"6238\",\"type\":\"Selection\"},{\"attributes\":{\"children\":[{\"id\":\"6203\"},{\"id\":\"6207\"},{\"id\":\"6265\"}],\"margin\":[0,0,0,0],\"name\":\"Row21399\",\"tags\":[\"embedded\"]},\"id\":\"6202\",\"type\":\"Row\"},{\"attributes\":{\"margin\":[5,5,5,5],\"name\":\"HSpacer21404\",\"sizing_mode\":\"stretch_width\"},\"id\":\"6265\",\"type\":\"Spacer\"},{\"attributes\":{\"bottom_units\":\"screen\",\"fill_alpha\":0.5,\"fill_color\":\"lightgrey\",\"left_units\":\"screen\",\"level\":\"overlay\",\"line_alpha\":1.0,\"line_color\":\"black\",\"line_dash\":[4,4],\"line_width\":2,\"right_units\":\"screen\",\"top_units\":\"screen\"},\"id\":\"6228\",\"type\":\"BoxAnnotation\"},{\"attributes\":{\"factors\":[\"poverty\",\"households_public_asst_or_food_stamps\"],\"palette\":[\"#30a2da\",\"#fc4f30\"]},\"id\":\"6236\",\"type\":\"CategoricalColorMapper\"},{\"attributes\":{\"data\":{\"Variable\":[\"poverty\",\"poverty\",\"poverty\",\"poverty\",\"poverty\",\"poverty\",\"poverty\",\"poverty\",\"poverty\",\"poverty\",\"poverty\",\"poverty\",\"poverty\",\"poverty\",\"poverty\",\"poverty\",\"poverty\",\"poverty\",\"poverty\",\"poverty\",\"poverty\",\"poverty\",\"poverty\",\"poverty\",\"poverty\",\"poverty\",\"poverty\",\"poverty\",\"poverty\",\"poverty\",\"poverty\",\"poverty\",\"poverty\",\"poverty\",\"poverty\",\"poverty\",\"poverty\",\"poverty\",\"poverty\",\"poverty\",\"poverty\",\"poverty\",\"poverty\",\"poverty\",\"poverty\",\"poverty\",\"poverty\",\"poverty\",\"poverty\",\"poverty\",\"poverty\",\"poverty\",\"poverty\",\"poverty\",\"poverty\",\"poverty\",\"poverty\",\"poverty\",\"poverty\",\"poverty\",\"poverty\",\"poverty\",\"poverty\",\"poverty\",\"poverty\",\"poverty\",\"poverty\",\"households_public_asst_or_food_stamps\",\"households_public_asst_or_food_stamps\",\"households_public_asst_or_food_stamps\",\"households_public_asst_or_food_stamps\",\"households_public_asst_or_food_stamps\",\"households_public_asst_or_food_stamps\",\"households_public_asst_or_food_stamps\",\"households_public_asst_or_food_stamps\",\"households_public_asst_or_food_stamps\",\"households_public_asst_or_food_stamps\",\"households_public_asst_or_food_stamps\",\"households_public_asst_or_food_stamps\",\"households_public_asst_or_food_stamps\",\"households_public_asst_or_food_stamps\",\"households_public_asst_or_food_stamps\",\"households_public_asst_or_food_stamps\",\"households_public_asst_or_food_stamps\",\"households_public_asst_or_food_stamps\",\"households_public_asst_or_food_stamps\",\"households_public_asst_or_food_stamps\",\"households_public_asst_or_food_stamps\",\"households_public_asst_or_food_stamps\",\"households_public_asst_or_food_stamps\",\"households_public_asst_or_food_stamps\",\"households_public_asst_or_food_stamps\",\"households_public_asst_or_food_stamps\",\"households_public_asst_or_food_stamps\",\"households_public_asst_or_food_stamps\",\"households_public_asst_or_food_stamps\",\"households_public_asst_or_food_stamps\",\"households_public_asst_or_food_stamps\",\"households_public_asst_or_food_stamps\",\"households_public_asst_or_food_stamps\",\"households_public_asst_or_food_stamps\",\"households_public_asst_or_food_stamps\",\"households_public_asst_or_food_stamps\",\"households_public_asst_or_food_stamps\",\"households_public_asst_or_food_stamps\",\"households_public_asst_or_food_stamps\",\"households_public_asst_or_food_stamps\",\"households_public_asst_or_food_stamps\",\"households_public_asst_or_food_stamps\",\"households_public_asst_or_food_stamps\",\"households_public_asst_or_food_stamps\",\"households_public_asst_or_food_stamps\",\"households_public_asst_or_food_stamps\",\"households_public_asst_or_food_stamps\",\"households_public_asst_or_food_stamps\",\"households_public_asst_or_food_stamps\",\"households_public_asst_or_food_stamps\",\"households_public_asst_or_food_stamps\",\"households_public_asst_or_food_stamps\",\"households_public_asst_or_food_stamps\",\"households_public_asst_or_food_stamps\",\"households_public_asst_or_food_stamps\",\"households_public_asst_or_food_stamps\",\"households_public_asst_or_food_stamps\",\"households_public_asst_or_food_stamps\",\"households_public_asst_or_food_stamps\",\"households_public_asst_or_food_stamps\",\"households_public_asst_or_food_stamps\",\"households_public_asst_or_food_stamps\",\"households_public_asst_or_food_stamps\",\"households_public_asst_or_food_stamps\",\"households_public_asst_or_food_stamps\",\"households_public_asst_or_food_stamps\",\"households_public_asst_or_food_stamps\"],\"geo_id\":[\"42057\",\"42105\",\"42053\",\"42113\",\"42031\",\"42023\",\"42035\",\"42111\",\"42115\",\"42059\",\"42119\",\"42109\",\"42067\",\"42087\",\"42061\",\"42093\",\"42131\",\"42037\",\"42015\",\"42047\",\"42009\",\"42005\",\"42095\",\"42041\",\"42079\",\"42039\",\"42125\",\"42027\",\"42021\",\"42065\",\"42081\",\"42071\",\"42049\",\"42043\",\"42063\",\"42077\",\"42017\",\"42029\",\"42075\",\"42123\",\"42099\",\"42097\",\"42025\",\"42033\",\"42121\",\"42001\",\"42055\",\"42089\",\"42007\",\"42083\",\"42107\",\"42103\",\"42011\",\"42117\",\"42127\",\"42085\",\"42019\",\"42091\",\"42051\",\"42129\",\"42069\",\"42073\",\"42013\",\"42133\",\"42101\",\"42003\",\"42045\",\"42057\",\"42105\",\"42053\",\"42113\",\"42031\",\"42023\",\"42035\",\"42111\",\"42115\",\"42059\",\"42119\",\"42109\",\"42067\",\"42087\",\"42061\",\"42093\",\"42131\",\"42037\",\"42015\",\"42047\",\"42009\",\"42005\",\"42095\",\"42041\",\"42079\",\"42039\",\"42125\",\"42027\",\"42021\",\"42065\",\"42081\",\"42071\",\"42049\",\"42043\",\"42063\",\"42077\",\"42017\",\"42029\",\"42075\",\"42123\",\"42099\",\"42097\",\"42025\",\"42033\",\"42121\",\"42001\",\"42055\",\"42089\",\"42007\",\"42083\",\"42107\",\"42103\",\"42011\",\"42117\",\"42127\",\"42085\",\"42019\",\"42091\",\"42051\",\"42129\",\"42069\",\"42073\",\"42013\",\"42133\",\"42101\",\"42003\",\"42045\"],\"value\":{\"__ndarray__\":\"AAAAAADImUAAAAAAALCiQAAAAAAAMH1AAAAAAAAIiUAAAAAAAM23QAAAAAAAyIRAAAAAAABbuUAAAAAAgPTAQAAAAAAAlLNAAAAAAACqskAAAAAAALavQAAAAAAAnK9AAAAAAAB4pkAAAAAAAK65QAAAAAAA17RAAAAAAACUnkAAAAAAAOqlQAAAAAAAMMFAAAAAAABZvEAAAAAAACSnQAAAAAAA5LdAAAAAAAADvkAAAAAAQNjZQAAAAADA69BAAAAAAEA55kAAAAAAgJzGQAAAAABAVtJAAAAAAECv2UAAAAAAgB/TQAAAAAAAe7dAAAAAAIAVzkAAAAAAgJzpQAAAAACA5+RAAAAAAMCt4EAAAAAAADvKQAAAAABgkuVAAAAAAOBF4kAAAAAAILXgQAAAAACAfMtAAAAAAABvs0AAAAAAABCuQAAAAACA/cdAAAAAAAC1vkAAAAAAAJbFQAAAAAAAsLtAAAAAAIDKwEAAAAAAAIzOQAAAAAAAj9JAAAAAAACA0UAAAAAAAFC5QAAAAACA49BAAAAAAABktUAAAAAAoELpQAAAAAAAjbZAAAAAAACwtUAAAAAAgCvNQAAAAAAANM1AAAAAAEBZ6EAAAAAAwCbWQAAAAABA+eBAAAAAAAAH3kAAAAAAgHjHQAAAAABAO9FAAAAAAKAu5UAAAAAAJD8XQQAAAABQrgFBAAAAAICY6kAAAAAAAPCKQAAAAAAAqI1AAAAAAACAb0AAAAAAANB0QAAAAAAAtKFAAAAAAADwdkAAAAAAAHiiQAAAAAAAfrFAAAAAAABAnUAAAAAAAFCjQAAAAAAAeJpAAAAAAACQl0AAAAAAAMCPQAAAAAAA4KhAAAAAAADUo0AAAAAAALCHQAAAAAAADJNAAAAAAADeqEAAAAAAANqnQAAAAAAAHJZAAAAAAABipUAAAAAAAMCxQAAAAAAAVshAAAAAAACPvUAAAAAAgGrWQAAAAAAArLZAAAAAAAAaxUAAAAAAAPGwQAAAAACATMRAAAAAAAD+pUAAAAAAANe8QAAAAAAAz9JAAAAAAMA+1EAAAAAAgBfNQAAAAAAA+bJAAAAAAIAo00AAAAAAgLbNQAAAAAAA/8JAAAAAAADQuUAAAAAAAEKiQAAAAAAAVJxAAAAAAAATtkAAAAAAADipQAAAAAAALrdAAAAAAAB0rEAAAAAAADSpQAAAAAAAvLlAAAAAAABuvUAAAAAAAAbEQAAAAAAAoKdAAAAAAID1wkAAAAAAALSgQAAAAACAV9VAAAAAAAB+oEAAAAAAAJqjQAAAAAAAtr1AAAAAAACwukAAAAAAQFfUQAAAAACAnMdAAAAAAABQ0kAAAAAAAAPNQAAAAAAAnLxAAAAAAAD5wEAAAAAAgLnTQAAAAACwcQNBAAAAAAAb8UAAAAAAgKHXQA==\",\"dtype\":\"float64\",\"order\":\"little\",\"shape\":[134]},\"xoffsets\":[[\"42057\",\"poverty\"],[\"42105\",\"poverty\"],[\"42053\",\"poverty\"],[\"42113\",\"poverty\"],[\"42031\",\"poverty\"],[\"42023\",\"poverty\"],[\"42035\",\"poverty\"],[\"42111\",\"poverty\"],[\"42115\",\"poverty\"],[\"42059\",\"poverty\"],[\"42119\",\"poverty\"],[\"42109\",\"poverty\"],[\"42067\",\"poverty\"],[\"42087\",\"poverty\"],[\"42061\",\"poverty\"],[\"42093\",\"poverty\"],[\"42131\",\"poverty\"],[\"42037\",\"poverty\"],[\"42015\",\"poverty\"],[\"42047\",\"poverty\"],[\"42009\",\"poverty\"],[\"42005\",\"poverty\"],[\"42095\",\"poverty\"],[\"42041\",\"poverty\"],[\"42079\",\"poverty\"],[\"42039\",\"poverty\"],[\"42125\",\"poverty\"],[\"42027\",\"poverty\"],[\"42021\",\"poverty\"],[\"42065\",\"poverty\"],[\"42081\",\"poverty\"],[\"42071\",\"poverty\"],[\"42049\",\"poverty\"],[\"42043\",\"poverty\"],[\"42063\",\"poverty\"],[\"42077\",\"poverty\"],[\"42017\",\"poverty\"],[\"42029\",\"poverty\"],[\"42075\",\"poverty\"],[\"42123\",\"poverty\"],[\"42099\",\"poverty\"],[\"42097\",\"poverty\"],[\"42025\",\"poverty\"],[\"42033\",\"poverty\"],[\"42121\",\"poverty\"],[\"42001\",\"poverty\"],[\"42055\",\"poverty\"],[\"42089\",\"poverty\"],[\"42007\",\"poverty\"],[\"42083\",\"poverty\"],[\"42107\",\"poverty\"],[\"42103\",\"poverty\"],[\"42011\",\"poverty\"],[\"42117\",\"poverty\"],[\"42127\",\"poverty\"],[\"42085\",\"poverty\"],[\"42019\",\"poverty\"],[\"42091\",\"poverty\"],[\"42051\",\"poverty\"],[\"42129\",\"poverty\"],[\"42069\",\"poverty\"],[\"42073\",\"poverty\"],[\"42013\",\"poverty\"],[\"42133\",\"poverty\"],[\"42101\",\"poverty\"],[\"42003\",\"poverty\"],[\"42045\",\"poverty\"],[\"42057\",\"households_public_asst_or_food_stamps\"],[\"42105\",\"households_public_asst_or_food_stamps\"],[\"42053\",\"households_public_asst_or_food_stamps\"],[\"42113\",\"households_public_asst_or_food_stamps\"],[\"42031\",\"households_public_asst_or_food_stamps\"],[\"42023\",\"households_public_asst_or_food_stamps\"],[\"42035\",\"households_public_asst_or_food_stamps\"],[\"42111\",\"households_public_asst_or_food_stamps\"],[\"42115\",\"households_public_asst_or_food_stamps\"],[\"42059\",\"households_public_asst_or_food_stamps\"],[\"42119\",\"households_public_asst_or_food_stamps\"],[\"42109\",\"households_public_asst_or_food_stamps\"],[\"42067\",\"households_public_asst_or_food_stamps\"],[\"42087\",\"households_public_asst_or_food_stamps\"],[\"42061\",\"households_public_asst_or_food_stamps\"],[\"42093\",\"households_public_asst_or_food_stamps\"],[\"42131\",\"households_public_asst_or_food_stamps\"],[\"42037\",\"households_public_asst_or_food_stamps\"],[\"42015\",\"households_public_asst_or_food_stamps\"],[\"42047\",\"households_public_asst_or_food_stamps\"],[\"42009\",\"households_public_asst_or_food_stamps\"],[\"42005\",\"households_public_asst_or_food_stamps\"],[\"42095\",\"households_public_asst_or_food_stamps\"],[\"42041\",\"households_public_asst_or_food_stamps\"],[\"42079\",\"households_public_asst_or_food_stamps\"],[\"42039\",\"households_public_asst_or_food_stamps\"],[\"42125\",\"households_public_asst_or_food_stamps\"],[\"42027\",\"households_public_asst_or_food_stamps\"],[\"42021\",\"households_public_asst_or_food_stamps\"],[\"42065\",\"households_public_asst_or_food_stamps\"],[\"42081\",\"households_public_asst_or_food_stamps\"],[\"42071\",\"households_public_asst_or_food_stamps\"],[\"42049\",\"households_public_asst_or_food_stamps\"],[\"42043\",\"households_public_asst_or_food_stamps\"],[\"42063\",\"households_public_asst_or_food_stamps\"],[\"42077\",\"households_public_asst_or_food_stamps\"],[\"42017\",\"households_public_asst_or_food_stamps\"],[\"42029\",\"households_public_asst_or_food_stamps\"],[\"42075\",\"households_public_asst_or_food_stamps\"],[\"42123\",\"households_public_asst_or_food_stamps\"],[\"42099\",\"households_public_asst_or_food_stamps\"],[\"42097\",\"households_public_asst_or_food_stamps\"],[\"42025\",\"households_public_asst_or_food_stamps\"],[\"42033\",\"households_public_asst_or_food_stamps\"],[\"42121\",\"households_public_asst_or_food_stamps\"],[\"42001\",\"households_public_asst_or_food_stamps\"],[\"42055\",\"households_public_asst_or_food_stamps\"],[\"42089\",\"households_public_asst_or_food_stamps\"],[\"42007\",\"households_public_asst_or_food_stamps\"],[\"42083\",\"households_public_asst_or_food_stamps\"],[\"42107\",\"households_public_asst_or_food_stamps\"],[\"42103\",\"households_public_asst_or_food_stamps\"],[\"42011\",\"households_public_asst_or_food_stamps\"],[\"42117\",\"households_public_asst_or_food_stamps\"],[\"42127\",\"households_public_asst_or_food_stamps\"],[\"42085\",\"households_public_asst_or_food_stamps\"],[\"42019\",\"households_public_asst_or_food_stamps\"],[\"42091\",\"households_public_asst_or_food_stamps\"],[\"42051\",\"households_public_asst_or_food_stamps\"],[\"42129\",\"households_public_asst_or_food_stamps\"],[\"42069\",\"households_public_asst_or_food_stamps\"],[\"42073\",\"households_public_asst_or_food_stamps\"],[\"42013\",\"households_public_asst_or_food_stamps\"],[\"42133\",\"households_public_asst_or_food_stamps\"],[\"42101\",\"households_public_asst_or_food_stamps\"],[\"42003\",\"households_public_asst_or_food_stamps\"],[\"42045\",\"households_public_asst_or_food_stamps\"]]},\"selected\":{\"id\":\"6238\"},\"selection_policy\":{\"id\":\"6256\"}},\"id\":\"6237\",\"type\":\"ColumnDataSource\"},{\"attributes\":{\"margin\":[5,5,5,5],\"name\":\"HSpacer21403\",\"sizing_mode\":\"stretch_width\"},\"id\":\"6203\",\"type\":\"Spacer\"},{\"attributes\":{\"text\":\"People in Poverty VS Assistance Being Used Per County\",\"text_color\":{\"value\":\"black\"},\"text_font_size\":{\"value\":\"12pt\"}},\"id\":\"6208\",\"type\":\"Title\"},{\"attributes\":{\"below\":[{\"id\":\"6216\"}],\"center\":[{\"id\":\"6218\"},{\"id\":\"6222\"}],\"left\":[{\"id\":\"6219\"}],\"margin\":[5,5,5,5],\"min_border_bottom\":10,\"min_border_left\":10,\"min_border_right\":10,\"min_border_top\":10,\"plot_height\":500,\"plot_width\":1200,\"renderers\":[{\"id\":\"6243\"}],\"sizing_mode\":\"fixed\",\"title\":{\"id\":\"6208\"},\"toolbar\":{\"id\":\"6229\"},\"x_range\":{\"id\":\"6204\"},\"x_scale\":{\"id\":\"6212\"},\"y_range\":{\"id\":\"6205\"},\"y_scale\":{\"id\":\"6214\"}},\"id\":\"6207\",\"subtype\":\"Figure\",\"type\":\"Plot\"},{\"attributes\":{},\"id\":\"6223\",\"type\":\"SaveTool\"},{\"attributes\":{},\"id\":\"6224\",\"type\":\"PanTool\"},{\"attributes\":{},\"id\":\"6227\",\"type\":\"ResetTool\"},{\"attributes\":{\"fill_alpha\":{\"value\":0.2},\"fill_color\":{\"field\":\"Variable\",\"transform\":{\"id\":\"6236\"}},\"line_alpha\":{\"value\":0.2},\"top\":{\"field\":\"value\"},\"width\":{\"value\":0.8},\"x\":{\"field\":\"xoffsets\"}},\"id\":\"6242\",\"type\":\"VBar\"},{\"attributes\":{},\"id\":\"6225\",\"type\":\"WheelZoomTool\"},{\"attributes\":{},\"id\":\"6246\",\"type\":\"CategoricalTickFormatter\"},{\"attributes\":{},\"id\":\"6217\",\"type\":\"CategoricalTicker\"},{\"attributes\":{\"overlay\":{\"id\":\"6228\"}},\"id\":\"6226\",\"type\":\"BoxZoomTool\"},{\"attributes\":{\"source\":{\"id\":\"6237\"}},\"id\":\"6244\",\"type\":\"CDSView\"},{\"attributes\":{},\"id\":\"6256\",\"type\":\"UnionRenderers\"},{\"attributes\":{\"fill_color\":{\"field\":\"Variable\",\"transform\":{\"id\":\"6236\"}},\"top\":{\"field\":\"value\"},\"width\":{\"value\":0.8},\"x\":{\"field\":\"xoffsets\"}},\"id\":\"6240\",\"type\":\"VBar\"},{\"attributes\":{},\"id\":\"6248\",\"type\":\"BasicTickFormatter\"},{\"attributes\":{\"axis\":{\"id\":\"6216\"},\"grid_line_color\":null,\"ticker\":null},\"id\":\"6218\",\"type\":\"Grid\"},{\"attributes\":{\"data_source\":{\"id\":\"6237\"},\"glyph\":{\"id\":\"6240\"},\"hover_glyph\":null,\"muted_glyph\":{\"id\":\"6242\"},\"nonselection_glyph\":{\"id\":\"6241\"},\"selection_glyph\":null,\"view\":{\"id\":\"6244\"}},\"id\":\"6243\",\"type\":\"GlyphRenderer\"},{\"attributes\":{},\"id\":\"6214\",\"type\":\"LinearScale\"},{\"attributes\":{\"axis_label\":\"geo_id, Variable\",\"bounds\":\"auto\",\"formatter\":{\"id\":\"6246\"},\"major_label_orientation\":\"horizontal\",\"ticker\":{\"id\":\"6217\"}},\"id\":\"6216\",\"type\":\"CategoricalAxis\"},{\"attributes\":{\"end\":418935.1,\"reset_end\":418935.1,\"reset_start\":0.0,\"tags\":[[[\"value\",\"value\",null]]]},\"id\":\"6205\",\"type\":\"Range1d\"},{\"attributes\":{\"fill_alpha\":{\"value\":0.1},\"fill_color\":{\"field\":\"Variable\",\"transform\":{\"id\":\"6236\"}},\"line_alpha\":{\"value\":0.1},\"top\":{\"field\":\"value\"},\"width\":{\"value\":0.8},\"x\":{\"field\":\"xoffsets\"}},\"id\":\"6241\",\"type\":\"VBar\"},{\"attributes\":{},\"id\":\"6212\",\"type\":\"CategoricalScale\"},{\"attributes\":{\"callback\":null,\"renderers\":[{\"id\":\"6243\"}],\"tags\":[\"hv_created\"],\"tooltips\":[[\"geo_id\",\"@{geo_id}\"],[\"Variable\",\"@{Variable}\"],[\"value\",\"@{value}\"]]},\"id\":\"6206\",\"type\":\"HoverTool\"},{\"attributes\":{\"axis_label\":\"People in Poverty, People Using Assistance\",\"bounds\":\"auto\",\"formatter\":{\"id\":\"6248\"},\"major_label_orientation\":\"horizontal\",\"ticker\":{\"id\":\"6220\"}},\"id\":\"6219\",\"type\":\"LinearAxis\"},{\"attributes\":{\"factors\":[[\"42001\",\"households_public_asst_or_food_stamps\"],[\"42001\",\"poverty\"],[\"42003\",\"households_public_asst_or_food_stamps\"],[\"42003\",\"poverty\"],[\"42005\",\"households_public_asst_or_food_stamps\"],[\"42005\",\"poverty\"],[\"42007\",\"households_public_asst_or_food_stamps\"],[\"42007\",\"poverty\"],[\"42009\",\"households_public_asst_or_food_stamps\"],[\"42009\",\"poverty\"],[\"42011\",\"households_public_asst_or_food_stamps\"],[\"42011\",\"poverty\"],[\"42013\",\"households_public_asst_or_food_stamps\"],[\"42013\",\"poverty\"],[\"42015\",\"households_public_asst_or_food_stamps\"],[\"42015\",\"poverty\"],[\"42017\",\"households_public_asst_or_food_stamps\"],[\"42017\",\"poverty\"],[\"42019\",\"households_public_asst_or_food_stamps\"],[\"42019\",\"poverty\"],[\"42021\",\"households_public_asst_or_food_stamps\"],[\"42021\",\"poverty\"],[\"42023\",\"households_public_asst_or_food_stamps\"],[\"42023\",\"poverty\"],[\"42025\",\"households_public_asst_or_food_stamps\"],[\"42025\",\"poverty\"],[\"42027\",\"households_public_asst_or_food_stamps\"],[\"42027\",\"poverty\"],[\"42029\",\"households_public_asst_or_food_stamps\"],[\"42029\",\"poverty\"],[\"42031\",\"households_public_asst_or_food_stamps\"],[\"42031\",\"poverty\"],[\"42033\",\"households_public_asst_or_food_stamps\"],[\"42033\",\"poverty\"],[\"42035\",\"households_public_asst_or_food_stamps\"],[\"42035\",\"poverty\"],[\"42037\",\"households_public_asst_or_food_stamps\"],[\"42037\",\"poverty\"],[\"42039\",\"households_public_asst_or_food_stamps\"],[\"42039\",\"poverty\"],[\"42041\",\"households_public_asst_or_food_stamps\"],[\"42041\",\"poverty\"],[\"42043\",\"households_public_asst_or_food_stamps\"],[\"42043\",\"poverty\"],[\"42045\",\"households_public_asst_or_food_stamps\"],[\"42045\",\"poverty\"],[\"42047\",\"households_public_asst_or_food_stamps\"],[\"42047\",\"poverty\"],[\"42049\",\"households_public_asst_or_food_stamps\"],[\"42049\",\"poverty\"],[\"42051\",\"households_public_asst_or_food_stamps\"],[\"42051\",\"poverty\"],[\"42053\",\"households_public_asst_or_food_stamps\"],[\"42053\",\"poverty\"],[\"42055\",\"households_public_asst_or_food_stamps\"],[\"42055\",\"poverty\"],[\"42057\",\"households_public_asst_or_food_stamps\"],[\"42057\",\"poverty\"],[\"42059\",\"households_public_asst_or_food_stamps\"],[\"42059\",\"poverty\"],[\"42061\",\"households_public_asst_or_food_stamps\"],[\"42061\",\"poverty\"],[\"42063\",\"households_public_asst_or_food_stamps\"],[\"42063\",\"poverty\"],[\"42065\",\"households_public_asst_or_food_stamps\"],[\"42065\",\"poverty\"],[\"42067\",\"households_public_asst_or_food_stamps\"],[\"42067\",\"poverty\"],[\"42069\",\"households_public_asst_or_food_stamps\"],[\"42069\",\"poverty\"],[\"42071\",\"households_public_asst_or_food_stamps\"],[\"42071\",\"poverty\"],[\"42073\",\"households_public_asst_or_food_stamps\"],[\"42073\",\"poverty\"],[\"42075\",\"households_public_asst_or_food_stamps\"],[\"42075\",\"poverty\"],[\"42077\",\"households_public_asst_or_food_stamps\"],[\"42077\",\"poverty\"],[\"42079\",\"households_public_asst_or_food_stamps\"],[\"42079\",\"poverty\"],[\"42081\",\"households_public_asst_or_food_stamps\"],[\"42081\",\"poverty\"],[\"42083\",\"households_public_asst_or_food_stamps\"],[\"42083\",\"poverty\"],[\"42085\",\"households_public_asst_or_food_stamps\"],[\"42085\",\"poverty\"],[\"42087\",\"households_public_asst_or_food_stamps\"],[\"42087\",\"poverty\"],[\"42089\",\"households_public_asst_or_food_stamps\"],[\"42089\",\"poverty\"],[\"42091\",\"households_public_asst_or_food_stamps\"],[\"42091\",\"poverty\"],[\"42093\",\"households_public_asst_or_food_stamps\"],[\"42093\",\"poverty\"],[\"42095\",\"households_public_asst_or_food_stamps\"],[\"42095\",\"poverty\"],[\"42097\",\"households_public_asst_or_food_stamps\"],[\"42097\",\"poverty\"],[\"42099\",\"households_public_asst_or_food_stamps\"],[\"42099\",\"poverty\"],[\"42101\",\"households_public_asst_or_food_stamps\"],[\"42101\",\"poverty\"],[\"42103\",\"households_public_asst_or_food_stamps\"],[\"42103\",\"poverty\"],[\"42105\",\"households_public_asst_or_food_stamps\"],[\"42105\",\"poverty\"],[\"42107\",\"households_public_asst_or_food_stamps\"],[\"42107\",\"poverty\"],[\"42109\",\"households_public_asst_or_food_stamps\"],[\"42109\",\"poverty\"],[\"42111\",\"households_public_asst_or_food_stamps\"],[\"42111\",\"poverty\"],[\"42113\",\"households_public_asst_or_food_stamps\"],[\"42113\",\"poverty\"],[\"42115\",\"households_public_asst_or_food_stamps\"],[\"42115\",\"poverty\"],[\"42117\",\"households_public_asst_or_food_stamps\"],[\"42117\",\"poverty\"],[\"42119\",\"households_public_asst_or_food_stamps\"],[\"42119\",\"poverty\"],[\"42121\",\"households_public_asst_or_food_stamps\"],[\"42121\",\"poverty\"],[\"42123\",\"households_public_asst_or_food_stamps\"],[\"42123\",\"poverty\"],[\"42125\",\"households_public_asst_or_food_stamps\"],[\"42125\",\"poverty\"],[\"42127\",\"households_public_asst_or_food_stamps\"],[\"42127\",\"poverty\"],[\"42129\",\"households_public_asst_or_food_stamps\"],[\"42129\",\"poverty\"],[\"42131\",\"households_public_asst_or_food_stamps\"],[\"42131\",\"poverty\"],[\"42133\",\"households_public_asst_or_food_stamps\"],[\"42133\",\"poverty\"]],\"tags\":[[[\"geo_id\",\"geo_id\",null],[\"Variable\",\"Variable\",null]]]},\"id\":\"6204\",\"type\":\"FactorRange\"},{\"attributes\":{},\"id\":\"6220\",\"type\":\"BasicTicker\"},{\"attributes\":{\"axis\":{\"id\":\"6219\"},\"dimension\":1,\"grid_line_color\":null,\"ticker\":null},\"id\":\"6222\",\"type\":\"Grid\"}],\"root_ids\":[\"6202\"]},\"title\":\"Bokeh Application\",\"version\":\"2.2.3\"}};\n",
       "    var render_items = [{\"docid\":\"0cd799e3-3ded-4db1-bcf9-1070bf23cf31\",\"root_ids\":[\"6202\"],\"roots\":{\"6202\":\"d85336ff-d6d7-4a81-88aa-2a0c3cfc95ea\"}}];\n",
       "    root.Bokeh.embed.embed_items_notebook(docs_json, render_items);\n",
       "  }\n",
       "  if (root.Bokeh !== undefined && root.Bokeh.Panel !== undefined) {\n",
       "    embed_document(root);\n",
       "  } else {\n",
       "    var attempts = 0;\n",
       "    var timer = setInterval(function(root) {\n",
       "      if (root.Bokeh !== undefined && root.Bokeh.Panel !== undefined) {\n",
       "        clearInterval(timer);\n",
       "        embed_document(root);\n",
       "      } else if (document.readyState == \"complete\") {\n",
       "        attempts++;\n",
       "        if (attempts > 100) {\n",
       "          clearInterval(timer);\n",
       "          console.log(\"Bokeh: ERROR: Unable to run BokehJS code because BokehJS library is missing\");\n",
       "        }\n",
       "      }\n",
       "    }, 10, root)\n",
       "  }\n",
       "})(window);</script>"
      ],
      "text/plain": [
       ":Bars   [geo_id,Variable]   (value)"
      ]
     },
     "execution_count": 226,
     "metadata": {
      "application/vnd.holoviews_exec.v0+json": {
       "id": "6202"
      }
     },
     "output_type": "execute_result"
    }
   ],
   "source": [
    "#Graph showing large gap between people in poverty (blue) and people using assistance(red)\n",
    "census_df.hvplot(\n",
    "                        y=['poverty', 'households_public_asst_or_food_stamps'],\n",
    "                        kind=\"bar\",\n",
    "                        height=500, width=1200,\n",
    "                        #ylim=(0, 4),\n",
    "                        ylabel=\"People in Poverty, People Using Assistance\",\n",
    "                        title=\"People in Poverty VS Assistance Being Used Per County\",\n",
    "                        legend = True\n",
    ")"
   ]
  },
  {
   "cell_type": "code",
   "execution_count": 230,
   "metadata": {},
   "outputs": [],
   "source": [
    "q_7_df = pd.concat([census_df['poverty'],census_df['households_public_asst_or_food_stamps']], join = 'inner', axis = 1)"
   ]
  },
  {
   "cell_type": "code",
   "execution_count": 261,
   "metadata": {},
   "outputs": [
    {
     "data": {
      "text/html": [
       "<div>\n",
       "<style scoped>\n",
       "    .dataframe tbody tr th:only-of-type {\n",
       "        vertical-align: middle;\n",
       "    }\n",
       "\n",
       "    .dataframe tbody tr th {\n",
       "        vertical-align: top;\n",
       "    }\n",
       "\n",
       "    .dataframe thead th {\n",
       "        text-align: right;\n",
       "    }\n",
       "</style>\n",
       "<table border=\"1\" class=\"dataframe\">\n",
       "  <thead>\n",
       "    <tr style=\"text-align: right;\">\n",
       "      <th></th>\n",
       "      <th>poverty</th>\n",
       "      <th>households_public_asst_or_food_stamps</th>\n",
       "      <th>usage_rate</th>\n",
       "    </tr>\n",
       "    <tr>\n",
       "      <th>geo_id</th>\n",
       "      <th></th>\n",
       "      <th></th>\n",
       "      <th></th>\n",
       "    </tr>\n",
       "  </thead>\n",
       "  <tbody>\n",
       "    <tr>\n",
       "      <th>42027</th>\n",
       "      <td>26301.0</td>\n",
       "      <td>4337.0</td>\n",
       "      <td>0.164899</td>\n",
       "    </tr>\n",
       "    <tr>\n",
       "      <th>42029</th>\n",
       "      <td>34217.0</td>\n",
       "      <td>9726.0</td>\n",
       "      <td>0.284245</td>\n",
       "    </tr>\n",
       "    <tr>\n",
       "      <th>42067</th>\n",
       "      <td>2876.0</td>\n",
       "      <td>1016.0</td>\n",
       "      <td>0.353268</td>\n",
       "    </tr>\n",
       "    <tr>\n",
       "      <th>42063</th>\n",
       "      <td>13430.0</td>\n",
       "      <td>4857.0</td>\n",
       "      <td>0.361653</td>\n",
       "    </tr>\n",
       "    <tr>\n",
       "      <th>42037</th>\n",
       "      <td>8800.0</td>\n",
       "      <td>3183.0</td>\n",
       "      <td>0.361705</td>\n",
       "    </tr>\n",
       "  </tbody>\n",
       "</table>\n",
       "</div>"
      ],
      "text/plain": [
       "        poverty  households_public_asst_or_food_stamps  usage_rate\n",
       "geo_id                                                            \n",
       "42027   26301.0                                 4337.0    0.164899\n",
       "42029   34217.0                                 9726.0    0.284245\n",
       "42067    2876.0                                 1016.0    0.353268\n",
       "42063   13430.0                                 4857.0    0.361653\n",
       "42037    8800.0                                 3183.0    0.361705"
      ]
     },
     "execution_count": 261,
     "metadata": {},
     "output_type": "execute_result"
    }
   ],
   "source": [
    "#Creating new column for percent of people using assistance who qualify\n",
    "q_7_df['usage_rate'] = census_df['households_public_asst_or_food_stamps']/census_df['poverty']\n",
    "#Sort Values showing lowest usage rate to highest usage rate\n",
    "q_7_df.sort_values(by = 'usage_rate', ascending = True, inplace = True)\n",
    "q_7_df.head()"
   ]
  },
  {
   "cell_type": "code",
   "execution_count": 259,
   "metadata": {},
   "outputs": [
    {
     "data": {},
     "metadata": {},
     "output_type": "display_data"
    },
    {
     "data": {
      "application/vnd.holoviews_exec.v0+json": "",
      "text/html": [
       "<div id='7972'>\n",
       "\n",
       "\n",
       "\n",
       "\n",
       "\n",
       "  <div class=\"bk-root\" id=\"6ff7b3b3-6798-4b65-a1fb-50796fb100dc\" data-root-id=\"7972\"></div>\n",
       "</div>\n",
       "<script type=\"application/javascript\">(function(root) {\n",
       "  function embed_document(root) {\n",
       "    var docs_json = {\"8c4cadda-4d68-49d6-b8c7-d9af2017f9f3\":{\"roots\":{\"references\":[{\"attributes\":{\"end\":0.7,\"reset_end\":0.7,\"reset_start\":0,\"tags\":[[[\"usage_rate\",\"usage_rate\",null]]]},\"id\":\"7975\",\"type\":\"Range1d\"},{\"attributes\":{\"callback\":null,\"renderers\":[{\"id\":\"8012\"}],\"tags\":[\"hv_created\"],\"tooltips\":[[\"geo_id\",\"@{geo_id}\"],[\"usage_rate\",\"@{usage_rate}\"]]},\"id\":\"7976\",\"type\":\"HoverTool\"},{\"attributes\":{\"axis_label\":\"usage_rate\",\"bounds\":\"auto\",\"formatter\":{\"id\":\"8017\"},\"major_label_orientation\":\"horizontal\",\"ticker\":{\"id\":\"7990\"}},\"id\":\"7989\",\"type\":\"LinearAxis\"},{\"attributes\":{\"factors\":[\"42027\",\"42029\",\"42067\",\"42063\",\"42037\",\"42035\",\"42117\",\"42071\",\"42031\",\"42109\",\"42115\",\"42001\",\"42093\",\"42103\",\"42089\",\"42105\",\"42017\",\"42025\",\"42113\",\"42119\"],\"tags\":[[[\"geo_id\",\"geo_id\",null]]]},\"id\":\"7974\",\"type\":\"FactorRange\"},{\"attributes\":{\"margin\":[5,5,5,5],\"name\":\"HSpacer24712\",\"sizing_mode\":\"stretch_width\"},\"id\":\"7973\",\"type\":\"Spacer\"},{\"attributes\":{},\"id\":\"7990\",\"type\":\"BasicTicker\"},{\"attributes\":{\"axis\":{\"id\":\"7989\"},\"dimension\":1,\"grid_line_color\":null,\"ticker\":null},\"id\":\"7992\",\"type\":\"Grid\"},{\"attributes\":{\"active_drag\":\"auto\",\"active_inspect\":\"auto\",\"active_multi\":null,\"active_scroll\":\"auto\",\"active_tap\":\"auto\",\"tools\":[{\"id\":\"7976\"},{\"id\":\"7993\"},{\"id\":\"7994\"},{\"id\":\"7995\"},{\"id\":\"7996\"},{\"id\":\"7997\"}]},\"id\":\"7999\",\"type\":\"Toolbar\"},{\"attributes\":{\"bottom_units\":\"screen\",\"fill_alpha\":0.5,\"fill_color\":\"lightgrey\",\"left_units\":\"screen\",\"level\":\"overlay\",\"line_alpha\":1.0,\"line_color\":\"black\",\"line_dash\":[4,4],\"line_width\":2,\"right_units\":\"screen\",\"top_units\":\"screen\"},\"id\":\"7998\",\"type\":\"BoxAnnotation\"},{\"attributes\":{\"text\":\"\",\"text_color\":{\"value\":\"black\"},\"text_font_size\":{\"value\":\"12pt\"}},\"id\":\"7978\",\"type\":\"Title\"},{\"attributes\":{\"fill_alpha\":{\"value\":0.2},\"fill_color\":{\"value\":\"#30a2da\"},\"line_alpha\":{\"value\":0.2},\"top\":{\"field\":\"usage_rate\"},\"width\":{\"value\":0.8},\"x\":{\"field\":\"geo_id\"}},\"id\":\"8011\",\"type\":\"VBar\"},{\"attributes\":{\"data\":{\"geo_id\":[\"42027\",\"42029\",\"42067\",\"42063\",\"42037\",\"42035\",\"42117\",\"42071\",\"42031\",\"42109\",\"42115\",\"42001\",\"42093\",\"42103\",\"42089\",\"42105\",\"42017\",\"42025\",\"42113\",\"42119\"],\"usage_rate\":{\"__ndarray__\":\"dv71U2YbxT97sWaSEDHSP8F+pC7zm9Y/Cy+qsFIl1z8mrWLSKibXPy+I+Sv/Ttc/21yawxln1z/iyXN9FoDXPzz5JNA+zdc/TeU08ora1z9Eynqbe+fXPwJ9sr4MBNg/ZLSZdfnJ2D9zWH8v0vzYPyLNT9lRX9k/FrKQhSxk2T+jFWtGVgTaP0Gx6RjXR9o/qk1talOb2j8L8AZWxLXaPw==\",\"dtype\":\"float64\",\"order\":\"little\",\"shape\":[20]}},\"selected\":{\"id\":\"8007\"},\"selection_policy\":{\"id\":\"8025\"}},\"id\":\"8006\",\"type\":\"ColumnDataSource\"},{\"attributes\":{},\"id\":\"8007\",\"type\":\"Selection\"},{\"attributes\":{\"below\":[{\"id\":\"7986\"}],\"center\":[{\"id\":\"7988\"},{\"id\":\"7992\"}],\"left\":[{\"id\":\"7989\"}],\"margin\":[5,5,5,5],\"min_border_bottom\":10,\"min_border_left\":10,\"min_border_right\":10,\"min_border_top\":10,\"plot_height\":300,\"plot_width\":700,\"renderers\":[{\"id\":\"8012\"}],\"sizing_mode\":\"fixed\",\"title\":{\"id\":\"7978\"},\"toolbar\":{\"id\":\"7999\"},\"x_range\":{\"id\":\"7974\"},\"x_scale\":{\"id\":\"7982\"},\"y_range\":{\"id\":\"7975\"},\"y_scale\":{\"id\":\"7984\"}},\"id\":\"7977\",\"subtype\":\"Figure\",\"type\":\"Plot\"},{\"attributes\":{\"margin\":[5,5,5,5],\"name\":\"HSpacer24713\",\"sizing_mode\":\"stretch_width\"},\"id\":\"8034\",\"type\":\"Spacer\"},{\"attributes\":{\"fill_color\":{\"value\":\"#30a2da\"},\"top\":{\"field\":\"usage_rate\"},\"width\":{\"value\":0.8},\"x\":{\"field\":\"geo_id\"}},\"id\":\"8009\",\"type\":\"VBar\"},{\"attributes\":{\"source\":{\"id\":\"8006\"}},\"id\":\"8013\",\"type\":\"CDSView\"},{\"attributes\":{},\"id\":\"7993\",\"type\":\"SaveTool\"},{\"attributes\":{},\"id\":\"7994\",\"type\":\"PanTool\"},{\"attributes\":{},\"id\":\"8015\",\"type\":\"CategoricalTickFormatter\"},{\"attributes\":{},\"id\":\"7997\",\"type\":\"ResetTool\"},{\"attributes\":{},\"id\":\"7995\",\"type\":\"WheelZoomTool\"},{\"attributes\":{\"data_source\":{\"id\":\"8006\"},\"glyph\":{\"id\":\"8009\"},\"hover_glyph\":null,\"muted_glyph\":{\"id\":\"8011\"},\"nonselection_glyph\":{\"id\":\"8010\"},\"selection_glyph\":null,\"view\":{\"id\":\"8013\"}},\"id\":\"8012\",\"type\":\"GlyphRenderer\"},{\"attributes\":{},\"id\":\"7982\",\"type\":\"CategoricalScale\"},{\"attributes\":{\"overlay\":{\"id\":\"7998\"}},\"id\":\"7996\",\"type\":\"BoxZoomTool\"},{\"attributes\":{\"fill_alpha\":{\"value\":0.1},\"fill_color\":{\"value\":\"#30a2da\"},\"line_alpha\":{\"value\":0.1},\"top\":{\"field\":\"usage_rate\"},\"width\":{\"value\":0.8},\"x\":{\"field\":\"geo_id\"}},\"id\":\"8010\",\"type\":\"VBar\"},{\"attributes\":{},\"id\":\"7987\",\"type\":\"CategoricalTicker\"},{\"attributes\":{},\"id\":\"7984\",\"type\":\"LinearScale\"},{\"attributes\":{},\"id\":\"8017\",\"type\":\"BasicTickFormatter\"},{\"attributes\":{},\"id\":\"8025\",\"type\":\"UnionRenderers\"},{\"attributes\":{\"axis\":{\"id\":\"7986\"},\"grid_line_color\":null,\"ticker\":null},\"id\":\"7988\",\"type\":\"Grid\"},{\"attributes\":{\"axis_label\":\"geo_id\",\"bounds\":\"auto\",\"formatter\":{\"id\":\"8015\"},\"major_label_orientation\":1.5707963267948966,\"ticker\":{\"id\":\"7987\"}},\"id\":\"7986\",\"type\":\"CategoricalAxis\"},{\"attributes\":{\"children\":[{\"id\":\"7973\"},{\"id\":\"7977\"},{\"id\":\"8034\"}],\"margin\":[0,0,0,0],\"name\":\"Row24708\",\"tags\":[\"embedded\"]},\"id\":\"7972\",\"type\":\"Row\"}],\"root_ids\":[\"7972\"]},\"title\":\"Bokeh Application\",\"version\":\"2.2.3\"}};\n",
       "    var render_items = [{\"docid\":\"8c4cadda-4d68-49d6-b8c7-d9af2017f9f3\",\"root_ids\":[\"7972\"],\"roots\":{\"7972\":\"6ff7b3b3-6798-4b65-a1fb-50796fb100dc\"}}];\n",
       "    root.Bokeh.embed.embed_items_notebook(docs_json, render_items);\n",
       "  }\n",
       "  if (root.Bokeh !== undefined && root.Bokeh.Panel !== undefined) {\n",
       "    embed_document(root);\n",
       "  } else {\n",
       "    var attempts = 0;\n",
       "    var timer = setInterval(function(root) {\n",
       "      if (root.Bokeh !== undefined && root.Bokeh.Panel !== undefined) {\n",
       "        clearInterval(timer);\n",
       "        embed_document(root);\n",
       "      } else if (document.readyState == \"complete\") {\n",
       "        attempts++;\n",
       "        if (attempts > 100) {\n",
       "          clearInterval(timer);\n",
       "          console.log(\"Bokeh: ERROR: Unable to run BokehJS code because BokehJS library is missing\");\n",
       "        }\n",
       "      }\n",
       "    }, 10, root)\n",
       "  }\n",
       "})(window);</script>"
      ],
      "text/plain": [
       ":Bars   [geo_id]   (usage_rate)"
      ]
     },
     "execution_count": 259,
     "metadata": {
      "application/vnd.holoviews_exec.v0+json": {
       "id": "7972"
      }
     },
     "output_type": "execute_result"
    }
   ],
   "source": [
    "#Graphing 20 lowest usage rates  \n",
    "q_7_df.nsmallest(20, 'usage_rate').hvplot(kind ='bar', y = 'usage_rate', x = 'geo_id', rot = 90, ylim = (0,.7))"
   ]
  },
  {
   "cell_type": "markdown",
   "metadata": {},
   "source": [
    "Assuming everyone within the 'Poverty' column qualifies for assitance this is the results. County #42027 has the lowest usage rate by far of 16.5%. From there it is a gradual upslope to the highest usage rate of 60.9% from county #42073. It is clear that some counties are not maximizing the possible assisatnce that is avaiable to them."
   ]
  }
 ],
 "metadata": {
  "kernelspec": {
   "display_name": "Python [conda env:pyvizenv] *",
   "language": "python",
   "name": "conda-env-pyvizenv-py"
  },
  "language_info": {
   "codemirror_mode": {
    "name": "ipython",
    "version": 3
   },
   "file_extension": ".py",
   "mimetype": "text/x-python",
   "name": "python",
   "nbconvert_exporter": "python",
   "pygments_lexer": "ipython3",
   "version": "3.7.9"
  }
 },
 "nbformat": 4,
 "nbformat_minor": 4
}
